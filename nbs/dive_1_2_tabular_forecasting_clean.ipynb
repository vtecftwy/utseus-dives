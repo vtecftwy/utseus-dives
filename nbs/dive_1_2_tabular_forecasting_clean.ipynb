{
  "nbformat": 4,
  "nbformat_minor": 0,
  "metadata": {
    "kernelspec": {
      "display_name": "Python 3",
      "name": "python3"
    },
    "language_info": {
      "codemirror_mode": {
        "name": "ipython",
        "version": 3
      },
      "file_extension": ".py",
      "mimetype": "text/x-python",
      "name": "python",
      "nbconvert_exporter": "python",
      "pygments_lexer": "ipython3",
      "version": "3.7.7"
    },
    "toc": {
      "base_numbering": 1,
      "nav_menu": {},
      "number_sections": false,
      "sideBar": true,
      "skip_h1_title": true,
      "title_cell": "Table of Contents",
      "title_sidebar": "Contents",
      "toc_cell": false,
      "toc_position": {},
      "toc_section_display": true,
      "toc_window_display": false
    },
    "colab": {
      "provenance": [],
      "gpuType": "T4",
      "include_colab_link": true
    },
    "accelerator": "GPU"
  },
  "cells": [
    {
      "cell_type": "markdown",
      "metadata": {
        "id": "view-in-github",
        "colab_type": "text"
      },
      "source": [
        "<a href=\"https://colab.research.google.com/github/vtecftwy/utseus-dives/blob/main/nbs/dive_1_2_tabular_forecasting_clean.ipynb\" target=\"_parent\"><img src=\"https://colab.research.google.com/assets/colab-badge.svg\" alt=\"Open In Colab\"/></a>"
      ]
    },
    {
      "cell_type": "markdown",
      "metadata": {
        "id": "LbHiNQ0OhoWK"
      },
      "source": [
        "# Working with structured data - tabular data"
      ]
    },
    {
      "cell_type": "code",
      "metadata": {
        "id": "qLqfk6q-hoWI"
      },
      "source": [
        "try:\n",
        "    from dtreeviz import __version__\n",
        "except ModuleNotFoundError:\n",
        "    !pip install -Uqq dtreeviz"
      ],
      "execution_count": null,
      "outputs": []
    },
    {
      "cell_type": "code",
      "source": [
        "from fastai.data.external import untar_data\n",
        "from fastai.tabular.all import *\n",
        "from IPython.display import Image, display_svg, SVG\n",
        "from pandas.api.types import is_string_dtype, is_numeric_dtype, is_categorical_dtype\n",
        "from sklearn.ensemble import RandomForestRegressor\n",
        "from sklearn.tree import DecisionTreeRegressor\n",
        "import warnings\n",
        "\n",
        "warnings.filterwarnings('ignore')\n",
        "pd.options.display.max_rows = 20\n",
        "pd.options.display.max_columns = 8"
      ],
      "metadata": {
        "id": "1NoAu1NfZwcn"
      },
      "execution_count": null,
      "outputs": []
    },
    {
      "cell_type": "markdown",
      "source": [
        "## Introduction"
      ],
      "metadata": {
        "id": "lNl61EWlyWyY"
      }
    },
    {
      "cell_type": "markdown",
      "metadata": {
        "id": "bSXL613VhoWK"
      },
      "source": [
        "In this notebook, we will look at several machine learning techniques used to make prediction on tabular data.\n",
        "\n",
        "1. Ensembles of decision trees (i.e. random forests which we will use or gradient boosting machines), are the go-to techniques for tabular data. They are fast and handle large data sets. They are computing efficient. In addition, then provide intuitive explainability. We will see these aspects in this notebook.\n",
        "1. Multilayered neural networks (a.k.a. Multilayered Perceptrons) may also be used for structured data. However, they are only required when used in conbination with unstructured data (such as audio, images, and natural language)."
      ]
    },
    {
      "cell_type": "markdown",
      "metadata": {
        "id": "5KDJfsdmhoWQ"
      },
      "source": [
        "We will use the **scikit-learn** (also known as `sklearn`) library to implement decision tree and ensemble techniques.\n",
        "\n",
        "Scikit-learn is a very popular library for creating machine learning models, with most techniques other than deep learning. Scikit-learn also provides tools for data processing and model evaluation.\n",
        "\n",
        "Tabular data processing is best done with the **Pandas** library, which is best fit to handle two dimension data arrays with multiple data types, like the data we are facing. We will also need **NumPy**, which is numeric programming library that both sklearn and Pandas rely on."
      ]
    },
    {
      "cell_type": "markdown",
      "metadata": {
        "id": "_DvmyMLHhoWQ"
      },
      "source": [
        "## The Data: Pricing for second hand bulldozers"
      ]
    },
    {
      "cell_type": "markdown",
      "metadata": {
        "id": "yAMgkyAthoWR"
      },
      "source": [
        "The dataset we will use comes from the Kaggle competition: \"Blue Book for Bulldozers\". The competition description notes: \"The goal of the contest is to **predict the sale price** of a particular piece of heavy equipment at auction **based on its usage, equipment type, and configuration**.  The data is sourced from auction result postings and includes information on usage and equipment configurations.\"\n",
        "\n",
        "This is a very typical dataset and prediction problem you would face in a real project or at work."
      ]
    },
    {
      "cell_type": "markdown",
      "metadata": {
        "id": "xPeN1V9l-4mQ"
      },
      "source": [
        "#### Loading dataset"
      ]
    },
    {
      "cell_type": "markdown",
      "metadata": {
        "id": "yiZfP-s8hoWS"
      },
      "source": [
        "First we download the dataset, using the `untar_data` utility function provided by `fastai`. It will download the data and return the path of the directory where it is saved."
      ]
    },
    {
      "cell_type": "code",
      "metadata": {
        "id": "wAmOupJWhoWS"
      },
      "source": [
        "path = untar_data('https://diyai-dives.s3.ap-southeast-1.amazonaws.com/datasets/bluebook-for-bulldozers.zip')\n",
        "path"
      ],
      "execution_count": null,
      "outputs": []
    },
    {
      "cell_type": "markdown",
      "source": [
        "Let's review the files we have downloaded. The key file is **`TrainAndValid.csv`**"
      ],
      "metadata": {
        "id": "2o9zeKYVyjMh"
      }
    },
    {
      "cell_type": "code",
      "metadata": {
        "id": "mQQdITKFhoWT"
      },
      "source": [
        "data_files = [p.name for p in path.ls() if 'csv' in p.name or 'xls' in p.name]\n",
        "for p in data_files:\n",
        "    print(p)"
      ],
      "execution_count": null,
      "outputs": []
    },
    {
      "cell_type": "markdown",
      "metadata": {
        "id": "EO8UpBbDhoWT"
      },
      "source": [
        "### Look at the Data"
      ]
    },
    {
      "cell_type": "markdown",
      "metadata": {
        "id": "KY_KUhw2hoWU"
      },
      "source": [
        "The dataset includes a file with a description of all variables (`Data Dictionary.xlsx`). Including:\n",
        "\n",
        "- `SalesID`:: The unique identifier of the sale.\n",
        "- `MachineID`:: The unique identifier of a machine.  A machine can be sold multiple times.\n",
        "- `saleprice`:: What the machine sold for at auction (only provided in *train.csv*).\n",
        "- `saledate`:: The date of the sale.\n",
        "\n",
        "To see a description of all variables, click below."
      ]
    },
    {
      "cell_type": "markdown",
      "source": [
        "<details>\n",
        "<summary><b>Click here to see a description of all variables in the dataset</b></summary>\n",
        "<style type=\"text/css\">\n",
        ".tg  {border-collapse:collapse;border-spacing:0;}\n",
        ".tg td{border-color:black;border-style:solid;border-width:1px;font-family:Arial, sans-serif;font-size:14px;\n",
        "  overflow:hidden;padding:10px 5px;word-break:normal;}\n",
        ".tg th{border-color:black;border-style:solid;border-width:1px;font-family:Arial, sans-serif;font-size:14px;\n",
        "  font-weight:normal;overflow:hidden;padding:10px 5px;word-break:normal;}\n",
        ".tg .tg-0pky{border-color:inherit;text-align:left;vertical-align:top}\n",
        "</style>\n",
        "<table class=\"tg\"><thead>\n",
        "  <tr>\n",
        "    <th class=\"tg-0pky\">Variable</th>\n",
        "    <th class=\"tg-0pky\">Description</th>\n",
        "    <th class=\"tg-0pky\"></th>\n",
        "    <th class=\"tg-0pky\"></th>\n",
        "    <th class=\"tg-0pky\"></th>\n",
        "  </tr></thead>\n",
        "<tbody>\n",
        "  <tr>\n",
        "    <td class=\"tg-0pky\">SalesID</td>\n",
        "    <td class=\"tg-0pky\">  unique identifier of a particular sale of amachine at auction</td>\n",
        "    <td class=\"tg-0pky\"></td>\n",
        "    <td class=\"tg-0pky\"></td>\n",
        "    <td class=\"tg-0pky\"></td>\n",
        "  </tr>\n",
        "  <tr>\n",
        "    <td class=\"tg-0pky\">MachineID</td>\n",
        "    <td class=\"tg-0pky\">  identifier for a particular machine;  machines may have multiple sales</td>\n",
        "    <td class=\"tg-0pky\"></td>\n",
        "    <td class=\"tg-0pky\"></td>\n",
        "    <td class=\"tg-0pky\"></td>\n",
        "  </tr>\n",
        "  <tr>\n",
        "    <td class=\"tg-0pky\">ModelID</td>\n",
        "    <td class=\"tg-0pky\">  identifier for a unique machine model (i.e.fiModelDesc)</td>\n",
        "    <td class=\"tg-0pky\"></td>\n",
        "    <td class=\"tg-0pky\"></td>\n",
        "    <td class=\"tg-0pky\"></td>\n",
        "  </tr>\n",
        "  <tr>\n",
        "    <td class=\"tg-0pky\">datasource</td>\n",
        "    <td class=\"tg-0pky\">  source of the sale record;  some sources are more diligent aboutreporting attributes of the machine than others.  Note that a particular datasource mayreport on multiple auctioneerIDs.</td>\n",
        "    <td class=\"tg-0pky\"></td>\n",
        "    <td class=\"tg-0pky\"></td>\n",
        "    <td class=\"tg-0pky\"></td>\n",
        "  </tr>\n",
        "  <tr>\n",
        "    <td class=\"tg-0pky\">auctioneerID</td>\n",
        "    <td class=\"tg-0pky\">  identifier of a particular auctioneer, i.e.company that sold the machine at auction. Not the same as datasource.</td>\n",
        "    <td class=\"tg-0pky\"></td>\n",
        "    <td class=\"tg-0pky\"></td>\n",
        "    <td class=\"tg-0pky\"></td>\n",
        "  </tr>\n",
        "  <tr>\n",
        "    <td class=\"tg-0pky\">YearMade</td>\n",
        "    <td class=\"tg-0pky\">  year of manufacturer of the Machine</td>\n",
        "    <td class=\"tg-0pky\"></td>\n",
        "    <td class=\"tg-0pky\"></td>\n",
        "    <td class=\"tg-0pky\"></td>\n",
        "  </tr>\n",
        "  <tr>\n",
        "    <td class=\"tg-0pky\">MachineHoursCurrentMeter</td>\n",
        "    <td class=\"tg-0pky\">  current usage of the machine in hours attime of sale (saledate);  null or 0means no hours have been reported for that sale</td>\n",
        "    <td class=\"tg-0pky\"></td>\n",
        "    <td class=\"tg-0pky\"></td>\n",
        "    <td class=\"tg-0pky\"></td>\n",
        "  </tr>\n",
        "  <tr>\n",
        "    <td class=\"tg-0pky\">UsageBand</td>\n",
        "    <td class=\"tg-0pky\">  value (low, medium, high) calculatedcomparing this particular Machine-Sale hours to average usage for thefiBaseModel;  e.g. 'Low' means thismachine has less hours given it's lifespan relative to average offiBaseModel.</td>\n",
        "    <td class=\"tg-0pky\"></td>\n",
        "    <td class=\"tg-0pky\"></td>\n",
        "    <td class=\"tg-0pky\"></td>\n",
        "  </tr>\n",
        "  <tr>\n",
        "    <td class=\"tg-0pky\">Saledate</td>\n",
        "    <td class=\"tg-0pky\">  time of sale</td>\n",
        "    <td class=\"tg-0pky\"></td>\n",
        "    <td class=\"tg-0pky\"></td>\n",
        "    <td class=\"tg-0pky\"></td>\n",
        "  </tr>\n",
        "  <tr>\n",
        "    <td class=\"tg-0pky\">Saleprice</td>\n",
        "    <td class=\"tg-0pky\">  cost of sale in USD</td>\n",
        "    <td class=\"tg-0pky\"></td>\n",
        "    <td class=\"tg-0pky\"></td>\n",
        "    <td class=\"tg-0pky\"></td>\n",
        "  </tr>\n",
        "  <tr>\n",
        "    <td class=\"tg-0pky\">fiModelDesc</td>\n",
        "    <td class=\"tg-0pky\">  Description of a unique machine model (seeModelID); concatenation of fiBaseModel &amp;amp; fiSecondaryDesc &amp;amp;fiModelSeries &amp;amp; fiModelDescriptor</td>\n",
        "    <td class=\"tg-0pky\"></td>\n",
        "    <td class=\"tg-0pky\"></td>\n",
        "    <td class=\"tg-0pky\"></td>\n",
        "  </tr>\n",
        "  <tr>\n",
        "    <td class=\"tg-0pky\">fiBaseModel</td>\n",
        "    <td class=\"tg-0pky\">  disaggregation of fiModelDesc</td>\n",
        "    <td class=\"tg-0pky\"></td>\n",
        "    <td class=\"tg-0pky\"></td>\n",
        "    <td class=\"tg-0pky\"></td>\n",
        "  </tr>\n",
        "  <tr>\n",
        "    <td class=\"tg-0pky\">fiSecondaryDesc</td>\n",
        "    <td class=\"tg-0pky\">  disaggregation of fiModelDesc</td>\n",
        "    <td class=\"tg-0pky\"></td>\n",
        "    <td class=\"tg-0pky\"></td>\n",
        "    <td class=\"tg-0pky\"></td>\n",
        "  </tr>\n",
        "  <tr>\n",
        "    <td class=\"tg-0pky\">fiModelSeries</td>\n",
        "    <td class=\"tg-0pky\">  disaggregation of fiModelDesc</td>\n",
        "    <td class=\"tg-0pky\"></td>\n",
        "    <td class=\"tg-0pky\"></td>\n",
        "    <td class=\"tg-0pky\"></td>\n",
        "  </tr>\n",
        "  <tr>\n",
        "    <td class=\"tg-0pky\">fiModelDescriptor</td>\n",
        "    <td class=\"tg-0pky\">  disaggregation of fiModelDesc</td>\n",
        "    <td class=\"tg-0pky\"></td>\n",
        "    <td class=\"tg-0pky\"></td>\n",
        "    <td class=\"tg-0pky\"></td>\n",
        "  </tr>\n",
        "  <tr>\n",
        "    <td class=\"tg-0pky\">ProductSize</td>\n",
        "    <td class=\"tg-0pky\">  Don't know what this is </td>\n",
        "    <td class=\"tg-0pky\"></td>\n",
        "    <td class=\"tg-0pky\"></td>\n",
        "    <td class=\"tg-0pky\"></td>\n",
        "  </tr>\n",
        "  <tr>\n",
        "    <td class=\"tg-0pky\">ProductClassDesc</td>\n",
        "    <td class=\"tg-0pky\">  description of 2nd level hierarchicalgrouping (below ProductGroup) of fiModelDesc</td>\n",
        "    <td class=\"tg-0pky\"></td>\n",
        "    <td class=\"tg-0pky\"></td>\n",
        "    <td class=\"tg-0pky\"></td>\n",
        "  </tr>\n",
        "  <tr>\n",
        "    <td class=\"tg-0pky\">State</td>\n",
        "    <td class=\"tg-0pky\">  US State in which sale occurred</td>\n",
        "    <td class=\"tg-0pky\"></td>\n",
        "    <td class=\"tg-0pky\"></td>\n",
        "    <td class=\"tg-0pky\"></td>\n",
        "  </tr>\n",
        "  <tr>\n",
        "    <td class=\"tg-0pky\">ProductGroup</td>\n",
        "    <td class=\"tg-0pky\">  identifier for top-level hierarchicalgrouping of fiModelDesc</td>\n",
        "    <td class=\"tg-0pky\"></td>\n",
        "    <td class=\"tg-0pky\"></td>\n",
        "    <td class=\"tg-0pky\"></td>\n",
        "  </tr>\n",
        "  <tr>\n",
        "    <td class=\"tg-0pky\">ProductGroupDesc</td>\n",
        "    <td class=\"tg-0pky\">  description of top-level hierarchicalgrouping of fiModelDesc</td>\n",
        "    <td class=\"tg-0pky\"></td>\n",
        "    <td class=\"tg-0pky\"></td>\n",
        "    <td class=\"tg-0pky\"></td>\n",
        "  </tr>\n",
        "  <tr>\n",
        "    <td class=\"tg-0pky\">Drive_System</td>\n",
        "    <td class=\"tg-0pky\">machineconfiguration;  typcially describeswhether 2 or 4 wheel drive</td>\n",
        "    <td class=\"tg-0pky\"></td>\n",
        "    <td class=\"tg-0pky\"></td>\n",
        "    <td class=\"tg-0pky\"></td>\n",
        "  </tr>\n",
        "  <tr>\n",
        "    <td class=\"tg-0pky\">Enclosure</td>\n",
        "    <td class=\"tg-0pky\">machineconfiguration - does machine have an enclosed cab or not</td>\n",
        "    <td class=\"tg-0pky\"></td>\n",
        "    <td class=\"tg-0pky\"></td>\n",
        "    <td class=\"tg-0pky\"></td>\n",
        "  </tr>\n",
        "  <tr>\n",
        "    <td class=\"tg-0pky\">Forks</td>\n",
        "    <td class=\"tg-0pky\">machineconfiguration - attachment used for lifting</td>\n",
        "    <td class=\"tg-0pky\"></td>\n",
        "    <td class=\"tg-0pky\"></td>\n",
        "    <td class=\"tg-0pky\"></td>\n",
        "  </tr>\n",
        "  <tr>\n",
        "    <td class=\"tg-0pky\">Pad_Type</td>\n",
        "    <td class=\"tg-0pky\">machineconfiguration - type of treads a crawler machine uses</td>\n",
        "    <td class=\"tg-0pky\"></td>\n",
        "    <td class=\"tg-0pky\"></td>\n",
        "    <td class=\"tg-0pky\"></td>\n",
        "  </tr>\n",
        "  <tr>\n",
        "    <td class=\"tg-0pky\">Ride_Control</td>\n",
        "    <td class=\"tg-0pky\">machineconfiguration - optional feature on loaders to make the ride smoother</td>\n",
        "    <td class=\"tg-0pky\"></td>\n",
        "    <td class=\"tg-0pky\"></td>\n",
        "    <td class=\"tg-0pky\"></td>\n",
        "  </tr>\n",
        "  <tr>\n",
        "    <td class=\"tg-0pky\">Stick</td>\n",
        "    <td class=\"tg-0pky\">machineconfiguration - type of control </td>\n",
        "    <td class=\"tg-0pky\"></td>\n",
        "    <td class=\"tg-0pky\"></td>\n",
        "    <td class=\"tg-0pky\"></td>\n",
        "  </tr>\n",
        "  <tr>\n",
        "    <td class=\"tg-0pky\">Transmission</td>\n",
        "    <td class=\"tg-0pky\">machineconfiguration - describes type of transmission;  typically automatic or manual</td>\n",
        "    <td class=\"tg-0pky\"></td>\n",
        "    <td class=\"tg-0pky\"></td>\n",
        "    <td class=\"tg-0pky\"></td>\n",
        "  </tr>\n",
        "  <tr>\n",
        "    <td class=\"tg-0pky\">Turbocharged</td>\n",
        "    <td class=\"tg-0pky\">machineconfiguration - engine naturally aspirated or turbocharged</td>\n",
        "    <td class=\"tg-0pky\"></td>\n",
        "    <td class=\"tg-0pky\"></td>\n",
        "    <td class=\"tg-0pky\"></td>\n",
        "  </tr>\n",
        "  <tr>\n",
        "    <td class=\"tg-0pky\">Blade_Extension</td>\n",
        "    <td class=\"tg-0pky\">machineconfiguration - extension of standard blade</td>\n",
        "    <td class=\"tg-0pky\"></td>\n",
        "    <td class=\"tg-0pky\"></td>\n",
        "    <td class=\"tg-0pky\"></td>\n",
        "  </tr>\n",
        "  <tr>\n",
        "    <td class=\"tg-0pky\">Blade_Width</td>\n",
        "    <td class=\"tg-0pky\">machineconfiguration - width of blade</td>\n",
        "    <td class=\"tg-0pky\"></td>\n",
        "    <td class=\"tg-0pky\"></td>\n",
        "    <td class=\"tg-0pky\"></td>\n",
        "  </tr>\n",
        "  <tr>\n",
        "    <td class=\"tg-0pky\">Enclosure_Type</td>\n",
        "    <td class=\"tg-0pky\">machineconfiguration - does machine have an enclosed cab or not</td>\n",
        "    <td class=\"tg-0pky\"></td>\n",
        "    <td class=\"tg-0pky\"></td>\n",
        "    <td class=\"tg-0pky\"></td>\n",
        "  </tr>\n",
        "  <tr>\n",
        "    <td class=\"tg-0pky\">Engine_Horsepower</td>\n",
        "    <td class=\"tg-0pky\">machineconfiguration - engine horsepower rating</td>\n",
        "    <td class=\"tg-0pky\"></td>\n",
        "    <td class=\"tg-0pky\"></td>\n",
        "    <td class=\"tg-0pky\"></td>\n",
        "  </tr>\n",
        "  <tr>\n",
        "    <td class=\"tg-0pky\">Hydraulics</td>\n",
        "    <td class=\"tg-0pky\">machineconfiguration - type of hydraulics</td>\n",
        "    <td class=\"tg-0pky\"></td>\n",
        "    <td class=\"tg-0pky\"></td>\n",
        "    <td class=\"tg-0pky\"></td>\n",
        "  </tr>\n",
        "  <tr>\n",
        "    <td class=\"tg-0pky\">Pushblock</td>\n",
        "    <td class=\"tg-0pky\">machineconfiguration - option</td>\n",
        "    <td class=\"tg-0pky\"></td>\n",
        "    <td class=\"tg-0pky\"></td>\n",
        "    <td class=\"tg-0pky\"></td>\n",
        "  </tr>\n",
        "  <tr>\n",
        "    <td class=\"tg-0pky\">Ripper</td>\n",
        "    <td class=\"tg-0pky\">machineconfiguration - implement attached to machine to till soil</td>\n",
        "    <td class=\"tg-0pky\"></td>\n",
        "    <td class=\"tg-0pky\"></td>\n",
        "    <td class=\"tg-0pky\"></td>\n",
        "  </tr>\n",
        "  <tr>\n",
        "    <td class=\"tg-0pky\">Scarifier</td>\n",
        "    <td class=\"tg-0pky\">machineconfiguration - implement attached to machine to condition soil</td>\n",
        "    <td class=\"tg-0pky\"></td>\n",
        "    <td class=\"tg-0pky\"></td>\n",
        "    <td class=\"tg-0pky\"></td>\n",
        "  </tr>\n",
        "  <tr>\n",
        "    <td class=\"tg-0pky\">Tip_control</td>\n",
        "    <td class=\"tg-0pky\">machineconfiguration - type of blade control</td>\n",
        "    <td class=\"tg-0pky\"></td>\n",
        "    <td class=\"tg-0pky\"></td>\n",
        "    <td class=\"tg-0pky\"></td>\n",
        "  </tr>\n",
        "  <tr>\n",
        "    <td class=\"tg-0pky\">Tire_Size</td>\n",
        "    <td class=\"tg-0pky\">machineconfiguration - size of primary tires</td>\n",
        "    <td class=\"tg-0pky\"></td>\n",
        "    <td class=\"tg-0pky\"></td>\n",
        "    <td class=\"tg-0pky\"></td>\n",
        "  </tr>\n",
        "  <tr>\n",
        "    <td class=\"tg-0pky\">Coupler</td>\n",
        "    <td class=\"tg-0pky\">machineconfiguration - type of implement interface</td>\n",
        "    <td class=\"tg-0pky\"></td>\n",
        "    <td class=\"tg-0pky\"></td>\n",
        "    <td class=\"tg-0pky\"></td>\n",
        "  </tr>\n",
        "  <tr>\n",
        "    <td class=\"tg-0pky\">Coupler_System</td>\n",
        "    <td class=\"tg-0pky\">machineconfiguration - type of implement interface</td>\n",
        "    <td class=\"tg-0pky\"></td>\n",
        "    <td class=\"tg-0pky\"></td>\n",
        "    <td class=\"tg-0pky\"></td>\n",
        "  </tr>\n",
        "  <tr>\n",
        "    <td class=\"tg-0pky\">Grouser_Tracks</td>\n",
        "    <td class=\"tg-0pky\">machineconfiguration - describes ground contact interface</td>\n",
        "    <td class=\"tg-0pky\"></td>\n",
        "    <td class=\"tg-0pky\"></td>\n",
        "    <td class=\"tg-0pky\"></td>\n",
        "  </tr>\n",
        "  <tr>\n",
        "    <td class=\"tg-0pky\">Hydraulics_Flow</td>\n",
        "    <td class=\"tg-0pky\">machineconfiguration - normal or high flow hydraulic system</td>\n",
        "    <td class=\"tg-0pky\"></td>\n",
        "    <td class=\"tg-0pky\"></td>\n",
        "    <td class=\"tg-0pky\"></td>\n",
        "  </tr>\n",
        "  <tr>\n",
        "    <td class=\"tg-0pky\">Track_Type</td>\n",
        "    <td class=\"tg-0pky\">machineconfiguration - type of treads a crawler machine uses</td>\n",
        "    <td class=\"tg-0pky\"></td>\n",
        "    <td class=\"tg-0pky\"></td>\n",
        "    <td class=\"tg-0pky\"></td>\n",
        "  </tr>\n",
        "  <tr>\n",
        "    <td class=\"tg-0pky\">Undercarriage_Pad_Width</td>\n",
        "    <td class=\"tg-0pky\">machineconfiguration - width of crawler treads</td>\n",
        "    <td class=\"tg-0pky\"></td>\n",
        "    <td class=\"tg-0pky\"></td>\n",
        "    <td class=\"tg-0pky\"></td>\n",
        "  </tr>\n",
        "  <tr>\n",
        "    <td class=\"tg-0pky\">Stick_Length</td>\n",
        "    <td class=\"tg-0pky\">machineconfiguration - length of machine digging implement</td>\n",
        "    <td class=\"tg-0pky\"></td>\n",
        "    <td class=\"tg-0pky\"></td>\n",
        "    <td class=\"tg-0pky\"></td>\n",
        "  </tr>\n",
        "  <tr>\n",
        "    <td class=\"tg-0pky\">Thumb</td>\n",
        "    <td class=\"tg-0pky\">machineconfiguration - attachment used for grabbing</td>\n",
        "    <td class=\"tg-0pky\"></td>\n",
        "    <td class=\"tg-0pky\"></td>\n",
        "    <td class=\"tg-0pky\"></td>\n",
        "  </tr>\n",
        "  <tr>\n",
        "    <td class=\"tg-0pky\">Pattern_Changer</td>\n",
        "    <td class=\"tg-0pky\">machineconfiguration - can adjust the operator control configuration to suit theuser</td>\n",
        "    <td class=\"tg-0pky\"></td>\n",
        "    <td class=\"tg-0pky\"></td>\n",
        "    <td class=\"tg-0pky\"></td>\n",
        "  </tr>\n",
        "  <tr>\n",
        "    <td class=\"tg-0pky\">Grouser_Type</td>\n",
        "    <td class=\"tg-0pky\">machineconfiguration - type of treads a crawler machine uses</td>\n",
        "    <td class=\"tg-0pky\"></td>\n",
        "    <td class=\"tg-0pky\"></td>\n",
        "    <td class=\"tg-0pky\"></td>\n",
        "  </tr>\n",
        "  <tr>\n",
        "    <td class=\"tg-0pky\">Backhoe_Mounting</td>\n",
        "    <td class=\"tg-0pky\">machineconfiguration - optional interface used to add a backhoe attachment</td>\n",
        "    <td class=\"tg-0pky\"></td>\n",
        "    <td class=\"tg-0pky\"></td>\n",
        "    <td class=\"tg-0pky\"></td>\n",
        "  </tr>\n",
        "  <tr>\n",
        "    <td class=\"tg-0pky\">Blade_Type</td>\n",
        "    <td class=\"tg-0pky\">machineconfiguration - describes type of blade</td>\n",
        "    <td class=\"tg-0pky\"></td>\n",
        "    <td class=\"tg-0pky\"></td>\n",
        "    <td class=\"tg-0pky\"></td>\n",
        "  </tr>\n",
        "  <tr>\n",
        "    <td class=\"tg-0pky\">Travel_Controls</td>\n",
        "    <td class=\"tg-0pky\">machineconfiguration - describes operator control configuration</td>\n",
        "    <td class=\"tg-0pky\"></td>\n",
        "    <td class=\"tg-0pky\"></td>\n",
        "    <td class=\"tg-0pky\"></td>\n",
        "  </tr>\n",
        "  <tr>\n",
        "    <td class=\"tg-0pky\">Differential_Type</td>\n",
        "    <td class=\"tg-0pky\">machineconfiguration - differential type, typically locking or standard</td>\n",
        "    <td class=\"tg-0pky\"></td>\n",
        "    <td class=\"tg-0pky\"></td>\n",
        "    <td class=\"tg-0pky\"></td>\n",
        "  </tr>\n",
        "  <tr>\n",
        "    <td class=\"tg-0pky\">Steering_Controls</td>\n",
        "    <td class=\"tg-0pky\">machineconfiguration - describes operator control configuration</td>\n",
        "    <td class=\"tg-0pky\"></td>\n",
        "    <td class=\"tg-0pky\"></td>\n",
        "    <td class=\"tg-0pky\"></td>\n",
        "  </tr>\n",
        "</tbody></table>\n",
        "</details>"
      ],
      "metadata": {
        "id": "h5SOk6zIs2tX"
      }
    },
    {
      "cell_type": "markdown",
      "source": [
        "The first step in working with tabular data is to look at your data directly, and ensure that you understand the format, how it is structured, what types of values it holds ...\n",
        "\n",
        "Even if you have read the descriptions, the actual data may not be what you expect.\n",
        "\n",
        "First we load the training dataset into a Pandas DataFrame."
      ],
      "metadata": {
        "id": "AutWrxXfs1bo"
      }
    },
    {
      "cell_type": "markdown",
      "source": [
        "Let's load our data and have a look at the shape (nbr of rows and nbr of columns), then the list of columns:"
      ],
      "metadata": {
        "id": "GeVIp1fdvJRn"
      }
    },
    {
      "cell_type": "code",
      "metadata": {
        "id": "S6pRMa-QhoWU"
      },
      "source": [
        "df = pd.read_csv(path/'TrainAndValid.csv', low_memory=False)\n",
        "df.shape"
      ],
      "execution_count": null,
      "outputs": []
    },
    {
      "cell_type": "code",
      "metadata": {
        "id": "XI030FpFhoWU"
      },
      "source": [
        "df.columns"
      ],
      "execution_count": null,
      "outputs": []
    },
    {
      "cell_type": "markdown",
      "source": [
        "We have a lot of columns. We can specify a sublist of columns we want to look at, specificaly, and only show these."
      ],
      "metadata": {
        "id": "ghvkcKYEvYKe"
      }
    },
    {
      "cell_type": "code",
      "metadata": {
        "id": "Oj4HY3JnN9ti"
      },
      "source": [
        "prod_descriptions = ['ProductGroup', 'ProductGroupDesc', 'fiProductClassDesc', 'fiModelDesc', 'fiBaseModel', 'fiSecondaryDesc', 'fiModelSeries', 'fiModelDescriptor']\n",
        "df.loc[:, prod_descriptions].sample(10)"
      ],
      "execution_count": null,
      "outputs": []
    },
    {
      "cell_type": "markdown",
      "metadata": {
        "id": "RP8G_UEghoWU"
      },
      "source": [
        "It is good practice to look through the dataset to get a sense of what kind of information is in each column. We would also normally perform an in depth exploratory data analysis (variable range, distributions, outliers, ...).\n",
        "\n",
        "In this notebook, we will focus on a few of the most interesting bits only."
      ]
    },
    {
      "cell_type": "markdown",
      "source": [
        "### Identify ordinal data"
      ],
      "metadata": {
        "id": "WEBzUju8xWgI"
      }
    },
    {
      "cell_type": "markdown",
      "source": [
        "It is a good idea to handle *ordinal data*. That is columns containing strings or similar, but where those strings have a **natural ordering**.\n",
        "\n"
      ],
      "metadata": {
        "id": "JiRkxChCxUwF"
      }
    },
    {
      "cell_type": "code",
      "source": [
        "for col in df.columns:\n",
        "    feature = df.loc[:, col]\n",
        "    uniques = feature.unique()\n",
        "    if 2 < len(uniques) < 10 and feature.dtype == 'O':\n",
        "        print(f' - {col}: {uniques}', '\\n')"
      ],
      "metadata": {
        "id": "B__FKmirzaz1"
      },
      "execution_count": null,
      "outputs": []
    },
    {
      "cell_type": "markdown",
      "source": [
        "For instance, here are the levels of `ProductSize`:"
      ],
      "metadata": {
        "id": "sNH22VNhaJdL"
      }
    },
    {
      "cell_type": "code",
      "metadata": {
        "id": "1WEtSF_NhoWU"
      },
      "source": [
        "df['ProductSize'].unique()"
      ],
      "execution_count": null,
      "outputs": []
    },
    {
      "cell_type": "markdown",
      "metadata": {
        "id": "MUSo1R9RhoWU"
      },
      "source": [
        "You can tell Pandas about a suitable ordering of these levels like so:"
      ]
    },
    {
      "cell_type": "code",
      "metadata": {
        "id": "5ExLo9JPhoWV"
      },
      "source": [
        "sizes = 'Large','Large / Medium','Medium','Small','Mini','Compact'\n",
        "df['ProductSize'] = df['ProductSize'].astype('category')\n",
        "df['ProductSize'] = df['ProductSize'].cat.set_categories(sizes, ordered=True)"
      ],
      "execution_count": null,
      "outputs": []
    },
    {
      "cell_type": "markdown",
      "source": [
        "Same for `UsageBand`"
      ],
      "metadata": {
        "id": "VEhcaagazq13"
      }
    },
    {
      "cell_type": "code",
      "source": [
        "usages = 'High', 'Medium', 'Low'\n",
        "df['UsageBand'] = df['UsageBand'].astype('category')\n",
        "df['UsageBand'] = df['UsageBand'].cat.set_categories(usages, ordered=True)\n",
        "df['UsageBand'].dtype"
      ],
      "metadata": {
        "id": "4Ccyz77l13LG"
      },
      "execution_count": null,
      "outputs": []
    },
    {
      "cell_type": "markdown",
      "source": [
        "### Dependant variable - also called the target"
      ],
      "metadata": {
        "id": "Id4r5CwE4DeG"
      }
    },
    {
      "cell_type": "markdown",
      "metadata": {
        "id": "Yeq1IN0shoWV"
      },
      "source": [
        "The most important data column is the **dependent variable**—that is, the one we want to predict. This variable requires additional review.\n",
        "\n",
        "We normally select a metric for our problem after analysing what type of error we want to avoid. Is an important part of a project setup. In our case, Kaggle tells us what metric to use: **root mean squared log error (RMSLE)** between the actual and predicted auction prices.\n",
        "\n",
        "We will therefore need to do some processing to use it: we will take the **`log`** of the prices, so that **`rmse`** of that value will give us what we ultimately need."
      ]
    },
    {
      "cell_type": "code",
      "metadata": {
        "id": "nzawFTObhoWV"
      },
      "source": [
        "dep_var = 'SalePrice'"
      ],
      "execution_count": null,
      "outputs": []
    },
    {
      "cell_type": "code",
      "metadata": {
        "id": "vT3KDQTnhoWV"
      },
      "source": [
        "df[dep_var] = np.log(df[dep_var])"
      ],
      "execution_count": null,
      "outputs": []
    },
    {
      "cell_type": "markdown",
      "metadata": {
        "id": "UMkh1WF_hoWX"
      },
      "source": [
        "### Handling Dates"
      ]
    },
    {
      "cell_type": "markdown",
      "metadata": {
        "id": "_iSOvOZ_hoWX"
      },
      "source": [
        "When the dataset includes dates such as `Saledate`, it is good practive to enrich the dataset with engineered features related to that date: day of the week, month of the year, ....\n",
        "\n",
        "**Why is this important?**\n",
        "\n",
        "Decision trees work by successive binary decisions (go left or go right) to devide dividing a group of data into two."
      ]
    },
    {
      "cell_type": "markdown",
      "source": [
        "![decision_tree.PNG](data:image/png;base64,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)"
      ],
      "metadata": {
        "id": "Pg1BLv1R2dIA"
      }
    },
    {
      "cell_type": "markdown",
      "source": [
        "For **numerical** and **ordinal data**, this decision is straihforward. For **categorical** data, it is also easy once they are one-hot-encoded.\n",
        "\n",
        "**But how does this apply to dates?**\n",
        "\n",
        "If we treat the date as a timestamp and split along the time, we loose a lot of the meaning in a date. For instance, it will not make a decision based on the day of the week.\n",
        "\n",
        "We need to help our decision tree algorithm handle dates intelligently, by adding variavle allowing for such decisions, beyond the mere fact whether a date is more recent or less recent than another.\n",
        "\n",
        "We could create variavle so that the decision tree can make decisions based on that date's day of the week, on whether a day is a holiday, on what month it is in, and so forth. To do this, we replace every date column with a set of date metadata columns, such as holiday, day of week, and month. These columns provide categorical data that we suspect will be useful.\n",
        "\n",
        "`fastai` comes with a function that will do this for us—we just have to pass a column name that contains dates. It will replace the date column by a set of other columns."
      ],
      "metadata": {
        "id": "GayKSp0r27XQ"
      }
    },
    {
      "cell_type": "code",
      "source": [
        "from fastai.tabular.all import add_datepart"
      ],
      "metadata": {
        "id": "eEZB5wpl6QdN"
      },
      "execution_count": null,
      "outputs": []
    },
    {
      "cell_type": "code",
      "metadata": {
        "id": "szkSlw2ihoWX"
      },
      "source": [
        "df = add_datepart(df, 'saledate')"
      ],
      "execution_count": null,
      "outputs": []
    },
    {
      "cell_type": "code",
      "metadata": {
        "id": "QYgNOGFqhoWY"
      },
      "source": [
        "' '.join(f for f in df.columns if f.startswith('sale'))"
      ],
      "execution_count": null,
      "outputs": []
    },
    {
      "cell_type": "code",
      "source": [
        "df.loc[:,[f for f in df.columns if f.startswith('sale')]].sample(5).T"
      ],
      "metadata": {
        "id": "XrL2SDFZ7Ts-"
      },
      "execution_count": null,
      "outputs": []
    },
    {
      "cell_type": "markdown",
      "metadata": {
        "id": "Lm2ZnKCmhoWX"
      },
      "source": [
        "Let's do the same for the test set while we're there:"
      ]
    },
    {
      "cell_type": "code",
      "metadata": {
        "id": "C4NcfeKchoWX"
      },
      "source": [
        "df_test = pd.read_csv(path/'Test.csv', low_memory=False)\n",
        "df_test = add_datepart(df_test, 'saledate')"
      ],
      "execution_count": null,
      "outputs": []
    },
    {
      "cell_type": "markdown",
      "metadata": {
        "id": "pTjjCMs3hoWX"
      },
      "source": [
        "We can see that there are now lots of new columns in our DataFrame:"
      ]
    },
    {
      "cell_type": "markdown",
      "metadata": {
        "id": "XUX0uLgAhoWY"
      },
      "source": [
        "This is a good first step, but we will need to do a bit more cleaning. For this, we will use fastai objects called `TabularPandas` and `TabularProc`."
      ]
    },
    {
      "cell_type": "markdown",
      "metadata": {
        "id": "JuFiPK0FhoWY"
      },
      "source": [
        "### Handling categorical data and missing data"
      ]
    },
    {
      "cell_type": "markdown",
      "metadata": {
        "id": "Uw3xxvalhoWY"
      },
      "source": [
        "Another pre-processing required is handling strings and missing data.\n",
        "\n",
        "`sklearn` cannot do either out of the box, it requires the use of powerful data preprocessing classes, which are out of the scope of this notebook.\n",
        "\n",
        "Instead we will use two `fastai` classes:\n",
        "- `TabularPandas`, which wraps a Pandas DataFrame and provides a few additional conveniences.\n",
        "- `TabularProc`, preprocessing transform function (e.g. `Categorify` and `FillMissing`) which will be used to process data before loading them into `TabularPandas`.\n",
        "    - `Categorify` is a `TabularProc` that replaces a column with a numeric categorical column.\n",
        "    - `FillMissing` is a `TabularProc` that replaces missing values with the median of the column, and creates a new Boolean column that is set to `True` for any row where the value was missing.\n",
        "    \n",
        "These two transforms are needed for nearly every tabular dataset you will use, so this is a good starting point for your data processing:"
      ]
    },
    {
      "cell_type": "markdown",
      "source": [
        "First we defince a \"pipeline\", i.e. that list of the transforms we want to apply to our data."
      ],
      "metadata": {
        "id": "TLMlvUHa3xCg"
      }
    },
    {
      "cell_type": "code",
      "metadata": {
        "id": "Oicy1PdIhoWY"
      },
      "source": [
        "procs = [Categorify, FillMissing]"
      ],
      "execution_count": null,
      "outputs": []
    },
    {
      "cell_type": "markdown",
      "metadata": {
        "id": "BlArygHphoWY"
      },
      "source": [
        "`TabularPandas` will also handle splitting the dataset into **training** and **validation** sets for us.\n",
        "\n",
        "However we need to be very careful about our validation set because we have a time element. We want to design it so that we do not bring data from the future into the training dataset and data from the past in the validation dataset."
      ]
    },
    {
      "cell_type": "markdown",
      "source": [
        "<details>\n",
        "<summary>More on training, validation and test sets</summary>\n",
        "<p>Recall the distinction between a validation set and a test set, as discussed in `Chapter 1 Intro`. A validation set is data we hold back from training in order to ensure that the training process does not overfit on the training data. A test set is data that is held back even more deeply, from us ourselves, in order to ensure that *we* don't overfit on the validation data, as we explore various model architectures and hyperparameters.</p>\n",
        "<p>With a Kaggle competition, we don't get to see the test set. But we do want to define our validation data so that it has the same sort of relationship to the training data as the test set will have.</p>\n",
        "<p>In some cases, just randomly choosing a subset of your data points will do that. This is not one of those cases, because it is a time series.</p>\n",
        "<p>If you look at the date range represented in the test set, you will discover that it covers a six-month period from May 2012, which is later in time than any date in the training set. This is a good design, because the competition sponsor will want to ensure that a model is able to predict the future. But it means that if we are going to have a useful validation set, we also want the validation set to be later in time than the training set. The Kaggle training data ends in April 2012, so we will define a narrower training dataset which consists only of the Kaggle training data from before November 2011, and we'll define a validation set consisting of data from after November 2011.</p>\n",
        "</details>\n"
      ],
      "metadata": {
        "id": "BoBVhOji9EyL"
      }
    },
    {
      "cell_type": "markdown",
      "source": [
        "You can read the note the training and validation sets, of just run the next cell where we use `np.where`, to split early and late data points:"
      ],
      "metadata": {
        "id": "0IBX0uNg9rEV"
      }
    },
    {
      "cell_type": "code",
      "metadata": {
        "id": "mYJDpCtJhoWZ"
      },
      "source": [
        "condition = (df.saleYear < 2011) | (df.saleMonth < 10)\n",
        "train_idx = np.where( condition)[0]\n",
        "valid_idx = np.where(~condition)[0]\n",
        "\n",
        "splits = (list(train_idx),list(valid_idx))\n",
        "print(f\"{len(train_idx):,d} training samples and {len(valid_idx):,d} validation samples\")"
      ],
      "execution_count": null,
      "outputs": []
    },
    {
      "cell_type": "markdown",
      "metadata": {
        "id": "ifkZ1tsShoWZ"
      },
      "source": [
        "`TabularPandas` needs to be told which columns are **continuous** and which are **categorical**. We can handle that automatically using the helper function `cont_cat_split`:"
      ]
    },
    {
      "cell_type": "code",
      "metadata": {
        "id": "exhntUrZhoWZ"
      },
      "source": [
        "from fastai.tabular.all import cont_cat_split\n",
        "cont, cat = cont_cat_split(df, 1, dep_var=dep_var)"
      ],
      "execution_count": null,
      "outputs": []
    },
    {
      "cell_type": "code",
      "metadata": {
        "id": "t8dRhYfkPr6Q"
      },
      "source": [
        "', '.join(cont)"
      ],
      "execution_count": null,
      "outputs": []
    },
    {
      "cell_type": "code",
      "metadata": {
        "id": "FT4HY-_oP1zD"
      },
      "source": [
        "', '.join(cat)"
      ],
      "execution_count": null,
      "outputs": []
    },
    {
      "cell_type": "code",
      "metadata": {
        "id": "R7UxiU1MhoWZ"
      },
      "source": [
        "to = TabularPandas(df, procs, cat, cont, y_names=dep_var, splits=splits)"
      ],
      "execution_count": null,
      "outputs": []
    },
    {
      "cell_type": "markdown",
      "metadata": {
        "id": "gFWkn3-FhoWZ"
      },
      "source": [
        "A `TabularPandas` behaves a lot like a fastai `Datasets` object, including providing `train` and `valid` attributes:"
      ]
    },
    {
      "cell_type": "code",
      "metadata": {
        "id": "zNhx1F5xhoWZ"
      },
      "source": [
        "len(to.train),len(to.valid)"
      ],
      "execution_count": null,
      "outputs": []
    },
    {
      "cell_type": "markdown",
      "metadata": {
        "id": "tycjTJ3YhoWa"
      },
      "source": [
        "Even though categorical data are encoded, `TabularPandas` still displays them as strings, because in automatically \"decodes\" it."
      ]
    },
    {
      "cell_type": "code",
      "source": [
        "to1 = TabularPandas(df, procs, ['state', 'ProductGroup', 'Drive_System', 'Enclosure'], [], y_names=dep_var, splits=splits)\n",
        "to1.show(3)"
      ],
      "metadata": {
        "id": "yahX_WpfBey2"
      },
      "execution_count": null,
      "outputs": []
    },
    {
      "cell_type": "markdown",
      "metadata": {
        "id": "ppH7VVAzhoWa"
      },
      "source": [
        "However, the underlying items are all numeric:"
      ]
    },
    {
      "cell_type": "code",
      "source": [
        "to1.items.loc[:, ['state', 'ProductGroup', 'Drive_System', 'Enclosure']].head(3)"
      ],
      "metadata": {
        "id": "UN_uA5cPCEq9"
      },
      "execution_count": null,
      "outputs": []
    },
    {
      "cell_type": "markdown",
      "metadata": {
        "id": "DfXgmLuhhoWb"
      },
      "source": [
        "The conversion of categorical columns to numbers is done by simply replacing each unique level with a number. The numbers associated with the levels are chosen consecutively as they are seen in a column, so there's no particular meaning to the numbers in categorical columns after conversion. The exception is if you first convert a column to a Pandas ordered category (as we did for `ProductSize` earlier), in which case the ordering you chose is used. We can see the mapping by looking at the `classes` attribute:"
      ]
    },
    {
      "cell_type": "code",
      "metadata": {
        "id": "RBOsSRRMhoWb"
      },
      "source": [
        "to.classes['ProductSize'], to.classes['UsageBand']"
      ],
      "execution_count": null,
      "outputs": []
    },
    {
      "cell_type": "markdown",
      "source": [
        "`TabularPandas` also wraps both the training and the validating dataset:"
      ],
      "metadata": {
        "id": "nC1hgYNOBm2P"
      }
    },
    {
      "cell_type": "code",
      "source": [
        "to.train.show(3)"
      ],
      "metadata": {
        "id": "D0ZkPbSUBld1"
      },
      "execution_count": null,
      "outputs": []
    },
    {
      "cell_type": "code",
      "source": [
        "to.valid.show(3)"
      ],
      "metadata": {
        "id": "YmrNg5n3B3GF"
      },
      "execution_count": null,
      "outputs": []
    },
    {
      "cell_type": "markdown",
      "source": [
        "Basic pandas functions are swtill accessible to `TabularPandas` objects:"
      ],
      "metadata": {
        "id": "IP6Ll9fTAQfO"
      }
    },
    {
      "cell_type": "code",
      "source": [
        "to.loc[:,:].head(3)"
      ],
      "metadata": {
        "id": "v6_6UZPo_YiW"
      },
      "execution_count": null,
      "outputs": []
    },
    {
      "cell_type": "code",
      "metadata": {
        "id": "wb3sUz2RhoWa"
      },
      "source": [
        "to.items.head(3)"
      ],
      "execution_count": null,
      "outputs": []
    },
    {
      "cell_type": "markdown",
      "metadata": {
        "id": "jzZxNwyRhoWb"
      },
      "source": [
        "Since it takes a minute or so to process the data to get to this point, we should save it—that way in the future we can continue our work from here without rerunning the previous steps. fastai provides a `save` method that uses Python's *pickle* system to save nearly any Python object:"
      ]
    },
    {
      "cell_type": "code",
      "metadata": {
        "id": "ThuM8AE6hoWb"
      },
      "source": [
        "save_pickle(path/'to.pkl',to)"
      ],
      "execution_count": null,
      "outputs": []
    },
    {
      "cell_type": "markdown",
      "metadata": {
        "id": "-4pJnRkDhoWc"
      },
      "source": [
        "To read this back later, you would type:\n",
        "\n",
        "```python\n",
        "to = (path/'to.pkl').load()\n",
        "```"
      ]
    },
    {
      "cell_type": "markdown",
      "metadata": {
        "id": "95A_TKjMhoWc"
      },
      "source": [
        "Now that all this preprocessing is done, we are ready to create a decision tree."
      ]
    },
    {
      "cell_type": "markdown",
      "metadata": {
        "id": "6EYqSBeUhoWc"
      },
      "source": [
        "## Creating a Decision Tree"
      ]
    },
    {
      "cell_type": "markdown",
      "metadata": {
        "id": "r72dmuHohoWc"
      },
      "source": [
        "To begin, we define our independent and dependent variables:"
      ]
    },
    {
      "cell_type": "code",
      "metadata": {
        "id": "rK28id19hoWc"
      },
      "source": [
        "to = load_pickle(path/'to.pkl')"
      ],
      "execution_count": null,
      "outputs": []
    },
    {
      "cell_type": "code",
      "metadata": {
        "id": "zIQRM-cEhoWc"
      },
      "source": [
        "xs, y = to.train.xs, to.train.y\n",
        "valid_xs, valid_y = to.valid.xs, to.valid.y"
      ],
      "execution_count": null,
      "outputs": []
    },
    {
      "cell_type": "markdown",
      "metadata": {
        "id": "bfpBjgUNhoWc"
      },
      "source": [
        "Now that our data is all numeric, and there are no missing values, we can create a decision tree:"
      ]
    },
    {
      "cell_type": "code",
      "metadata": {
        "id": "0u9yHmpWqtRT"
      },
      "source": [
        "m = DecisionTreeRegressor(max_leaf_nodes=4)\n",
        "m.fit(xs, y);"
      ],
      "execution_count": null,
      "outputs": []
    },
    {
      "cell_type": "markdown",
      "metadata": {
        "id": "BXM5HA8NhoWd"
      },
      "source": [
        "To keep it simple, we've told sklearn to just create four *leaf nodes*. To see what it's learned, we can display the tree:"
      ]
    },
    {
      "cell_type": "code",
      "source": [
        "import graphviz\n",
        "from sklearn.tree import export_graphviz\n",
        "def draw_tree(t, df, size=10, ratio=0.6, precision=0, **kwargs):\n",
        "    \"\"\"https://github.com/fastai/fastbook/blob/master/utils.py\"\"\"\n",
        "    s=export_graphviz(t, out_file=None, feature_names=df.columns, filled=True, rounded=True,\n",
        "                      special_characters=True, rotate=False, precision=precision, **kwargs)\n",
        "    return graphviz.Source(re.sub('Tree {', f'Tree {{ size={size}; ratio={ratio}', s))"
      ],
      "metadata": {
        "id": "VU8dY_f_GMiW"
      },
      "execution_count": null,
      "outputs": []
    },
    {
      "cell_type": "code",
      "metadata": {
        "id": "nRHQ5gYthoWd"
      },
      "source": [
        "draw_tree(m, xs, size=10, leaves_parallel=True, precision=2)"
      ],
      "execution_count": null,
      "outputs": []
    },
    {
      "cell_type": "markdown",
      "metadata": {
        "id": "quNSBCHthoWd"
      },
      "source": [
        "Understanding this picture is one of the best ways to understand decision trees. Let's start at the top and explain each part step by step:\n",
        "- The top node represents the *initial model* before any splits have been done, when all the data is in one group. This is the simplest possible model. It is the result of asking zero questions and will always predict the value to be the average value of the whole dataset. In this case, we can see it predicts a value of 10.10 for the logarithm of the sales price. It gives a mean squared error of 0.48. The square root of this is 0.69. (Remember that unless you see `m_rmse`, or a *root mean squared error*, then the value you are looking at is before taking the square root, so it is just the average of the square of the differences.) We can also see that there are 404,710 auction records in this group—that is the total size of our training set. The final piece of information shown here is the decision criterion for the best split that was found, which is to split based on the `coupler_system` column.\n",
        "\n",
        "- Moving down and to the left, this node shows us that there were 360,847 auction records for equipment where `coupler_system` was less than 0.5. The average value of our dependent variable in this group is 10.21. Moving down and to the right from the initial model takes us to the records where `coupler_system` was greater than 0.5.\n",
        "\n",
        "- The bottom row contains our *leaf nodes*: the nodes with no answers coming out of them, because there are no more questions to be answered. At the far right of this row is the node containing records where `coupler_system` was greater than 0.5. The average value here is 9.21, so we can see the decision tree algorithm did find a single binary decision that separated high-value from low-value auction results. Asking only about `coupler_system` predicts an average value of 9.21 versus 10.1.\n",
        "\n",
        "- Returning back to the top node after the first decision point, we can see that a second binary decision split has been made, based on asking whether `YearMade` is less than or equal to 1991.5. For the group where this is true (remember, this is now following two binary decisions, based on `coupler_system` and `YearMade`) the average value is 9.97, and there are 155,724 auction records in this group. For the group of auctions where this decision is false, the average value is 10.4, and there are 205,123 records. So again, we can see that the decision tree algorithm has successfully split our more expensive auction records into two more groups which differ in value significantly."
      ]
    },
    {
      "cell_type": "markdown",
      "metadata": {
        "id": "6Gdrc31FhoWd"
      },
      "source": [
        "We can show the same information using Terence Parr's powerful [dtreeviz](https://explained.ai/decision-tree-viz/) library:"
      ]
    },
    {
      "cell_type": "code",
      "source": [
        "import dtreeviz\n",
        "\n",
        "def show_dtreeviz(model, X, y, features, target, scale, label_fontsize, orientation):\n",
        "    viz_model = dtreeviz.model(\n",
        "        model,\n",
        "        X_train=X,\n",
        "        y_train=y,\n",
        "        target_name=target,\n",
        "        feature_names=features,\n",
        "    )\n",
        "    display(viz_model.view(scale=scale, fontname='DejaVu Sans', label_fontsize=label_fontsize, orientation=orientation))"
      ],
      "metadata": {
        "id": "_fggNr5BJ1l9"
      },
      "execution_count": null,
      "outputs": []
    },
    {
      "cell_type": "code",
      "metadata": {
        "id": "FZSgezMKhoWd"
      },
      "source": [
        "samp_idx = np.random.permutation(len(y))[:500]\n",
        "show_dtreeviz(\n",
        "    m, xs.iloc[samp_idx], y.iloc[samp_idx], xs.columns, dep_var,\n",
        "    scale=1.6, label_fontsize=10, orientation='LR'\n",
        ")"
      ],
      "execution_count": null,
      "outputs": []
    },
    {
      "cell_type": "markdown",
      "metadata": {
        "id": "54ujsuRFhoWe"
      },
      "source": [
        "This shows a chart of the distribution of the data for each split point. We can clearly see that there's a problem with our `YearMade` data: there are bulldozers made in the year 1000, apparently! Presumably this is actually just a missing value code (a value that doesn't otherwise appear in the data and that is used as a placeholder in cases where a value is missing). For modeling purposes, 1000 is fine, but as you can see this outlier makes visualization of the values we are interested in more difficult. So, let's replace it with 1950:"
      ]
    },
    {
      "cell_type": "code",
      "metadata": {
        "id": "jii3RaVYhoWe"
      },
      "source": [
        "xs.loc[xs['YearMade']<1900, 'YearMade'] = 1950\n",
        "valid_xs.loc[valid_xs['YearMade']<1900, 'YearMade'] = 1950"
      ],
      "execution_count": null,
      "outputs": []
    },
    {
      "cell_type": "markdown",
      "metadata": {
        "id": "8Wl_qYjYhoWe"
      },
      "source": [
        "That change makes the split much clearer in the tree visualization, even although it doesn't actually change the result of the model in any significant way. This is a great example of how resilient decision trees are to data issues!"
      ]
    },
    {
      "cell_type": "code",
      "metadata": {
        "id": "vkfKkZXWhoWe"
      },
      "source": [
        "m = DecisionTreeRegressor(max_leaf_nodes=4).fit(xs, y)\n",
        "\n",
        "show_dtreeviz(\n",
        "    m, xs.iloc[samp_idx], y.iloc[samp_idx], xs.columns, dep_var,\n",
        "    scale=1.6, label_fontsize=10, orientation='LR'\n",
        ")"
      ],
      "execution_count": null,
      "outputs": []
    },
    {
      "cell_type": "markdown",
      "metadata": {
        "id": "tMNt7pfChoWf"
      },
      "source": [
        "Let's now have the decision tree algorithm build a bigger tree. Here, we are not passing in any stopping criteria such as `max_leaf_nodes`:"
      ]
    },
    {
      "cell_type": "code",
      "metadata": {
        "id": "FOa5R-JEhoWf"
      },
      "source": [
        "m = DecisionTreeRegressor()\n",
        "m.fit(xs, y);"
      ],
      "execution_count": null,
      "outputs": []
    },
    {
      "cell_type": "markdown",
      "metadata": {
        "id": "rdW_37gmhoWf"
      },
      "source": [
        "We'll create a little function to check the root mean squared error of our model (`m_rmse`), since that's how the competition was judged:"
      ]
    },
    {
      "cell_type": "code",
      "metadata": {
        "id": "xS9YhwtFhoWf"
      },
      "source": [
        "def r_mse(pred,y):\n",
        "    return round(math.sqrt(((pred-y)**2).mean()), 6)\n",
        "\n",
        "def m_rmse(m, xs, y):\n",
        "    return r_mse(m.predict(xs), y)"
      ],
      "execution_count": null,
      "outputs": []
    },
    {
      "cell_type": "code",
      "metadata": {
        "id": "m-9rQEeKhoWg"
      },
      "source": [
        "m_rmse(m, xs, y)"
      ],
      "execution_count": null,
      "outputs": []
    },
    {
      "cell_type": "markdown",
      "metadata": {
        "id": "D1l_Q8IbhoWg"
      },
      "source": [
        "So, our model is perfect, right? Not so fast... remember we really need to check the validation set, to ensure we're not overfitting:"
      ]
    },
    {
      "cell_type": "code",
      "metadata": {
        "id": "rW06bf1AhoWg"
      },
      "source": [
        "m_rmse(m, valid_xs, valid_y)"
      ],
      "execution_count": null,
      "outputs": []
    },
    {
      "cell_type": "markdown",
      "metadata": {
        "id": "kp6w67ShhoWg"
      },
      "source": [
        "Oops—it looks like we might be overfitting pretty badly. Here's why:"
      ]
    },
    {
      "cell_type": "code",
      "metadata": {
        "id": "g13TMxGxhoWg"
      },
      "source": [
        "m.get_n_leaves(), len(xs)"
      ],
      "execution_count": null,
      "outputs": []
    },
    {
      "cell_type": "markdown",
      "metadata": {
        "id": "j01BLqU_hoWg"
      },
      "source": [
        "We've got nearly as many leaf nodes as data points! That seems a little over-enthusiastic. Indeed, sklearn's default settings allow it to continue splitting nodes until there is only one item in each leaf node. Let's change the stopping rule to tell sklearn to ensure every leaf node contains at least 25 auction records:"
      ]
    },
    {
      "cell_type": "code",
      "metadata": {
        "id": "0MQWCByHhoWh"
      },
      "source": [
        "m = DecisionTreeRegressor(min_samples_leaf=25)\n",
        "m.fit(to.train.xs, to.train.y)\n",
        "m_rmse(m, xs, y), m_rmse(m, valid_xs, valid_y)"
      ],
      "execution_count": null,
      "outputs": []
    },
    {
      "cell_type": "markdown",
      "metadata": {
        "id": "9CC27MhVhoWh"
      },
      "source": [
        "That looks much better. Let's check the number of leaves again:"
      ]
    },
    {
      "cell_type": "code",
      "metadata": {
        "id": "pwshmcv7hoWh"
      },
      "source": [
        "m.get_n_leaves()"
      ],
      "execution_count": null,
      "outputs": []
    },
    {
      "cell_type": "markdown",
      "metadata": {
        "id": "6kx3kut0hoWh"
      },
      "source": [
        "Much more reasonable!"
      ]
    },
    {
      "cell_type": "markdown",
      "metadata": {
        "id": "NgHHiQb6hoWi"
      },
      "source": [
        "Building a decision tree is a good way to create a model of our data. It is very flexible, since it can clearly handle nonlinear relationships and interactions between variables. But we can see there is a fundamental compromise between how well it generalizes (which we can achieve by creating small trees) and how accurate it is on the training set (which we can achieve by using large trees).\n",
        "\n",
        "So how do we get the best of both worlds? We'll show you right after we handle an important missing detail: how to handle categorical variables."
      ]
    },
    {
      "cell_type": "markdown",
      "metadata": {
        "id": "kzrsbTzBhoWi"
      },
      "source": [
        "Now that you understand how decisions tree work, it's time for the best-of-both-worlds solution: random forests."
      ]
    },
    {
      "cell_type": "markdown",
      "metadata": {
        "id": "WtkBSj2UhoWi"
      },
      "source": [
        "## Random Forests"
      ]
    },
    {
      "cell_type": "markdown",
      "metadata": {
        "id": "kYIt2D2YhoWi"
      },
      "source": [
        "In 1994 Berkeley professor Leo Breiman, one year after his retirement, published a small technical report called [\"Bagging Predictors\"](https://www.stat.berkeley.edu/~breiman/bagging.pdf), which turned out to be one of the most influential ideas in modern machine learning. The report began:\n",
        "\n",
        "> Bagging predictors is a method for generating multiple versions of a predictor and using these to get an aggregated predictor. The aggregation averages over the versions... The multiple versions are formed by making bootstrap replicates of the learning set and using these as new learning sets. Tests… show that bagging can give substantial gains in accuracy. The vital element is the instability of the prediction method. If perturbing the learning set can cause significant changes in the predictor constructed, then bagging can improve accuracy.\n",
        "\n",
        "Here is the procedure that Breiman is proposing:\n",
        "\n",
        "1. Randomly choose a subset of the rows of your data (i.e., \"bootstrap replicates of your learning set\").\n",
        "1. Train a model using this subset.\n",
        "1. Save that model, and then return to step 1 a few times.\n",
        "1. This will give you a number of trained models. To make a prediction, predict using all of the models, and then take the average of each of those model's predictions.\n",
        "\n",
        "This procedure is known as \"bagging.\" It is based on a deep and important insight: although each of the models trained on a subset of data will make more errors than a model trained on the full dataset, those errors will not be correlated with each other. Different models will make different errors. The average of those errors, therefore, is: zero! So if we take the average of all of the models' predictions, then we should end up with a prediction that gets closer and closer to the correct answer, the more models we have. This is an extraordinary result—it means that we can improve the accuracy of nearly any kind of machine learning algorithm by training it multiple times, each time on a different random subset of the data, and averaging its predictions.\n",
        "\n",
        "In 2001 Leo Breiman went on to demonstrate that this approach to building models, when applied to decision tree building algorithms, was particularly powerful. He went even further than just randomly choosing rows for each model's training, but also randomly selected from a subset of columns when choosing each split in each decision tree. He called this method the *random forest*. Today it is, perhaps, the most widely used and practically important machine learning method.\n",
        "\n",
        "In essence a random forest is a model that averages the predictions of a large number of decision trees, which are generated by randomly varying various parameters that specify what data is used to train the tree and other tree parameters. Bagging is a particular approach to \"ensembling,\" or combining the results of multiple models together. To see how it works in practice, let's get started on creating our own random forest!"
      ]
    },
    {
      "cell_type": "markdown",
      "metadata": {
        "id": "lR-JeuBVhoWj"
      },
      "source": [
        "### Creating a Random Forest"
      ]
    },
    {
      "cell_type": "code",
      "metadata": {
        "id": "yjJB_qnjQiMc"
      },
      "source": [
        "to = load_pickle(path/'to.pkl')\n",
        "xs, y = to.train.xs, to.train.y\n",
        "valid_xs, valid_y = to.valid.xs, to.valid.y"
      ],
      "execution_count": null,
      "outputs": []
    },
    {
      "cell_type": "markdown",
      "metadata": {
        "id": "4ZENiw7AhoWj"
      },
      "source": [
        "We can create a random forest just like we created a decision tree, except now, we are also specifying parameters that indicate how many trees should be in the forest, how we should subset the data items (the rows), and how we should subset the fields (the columns).\n",
        "\n",
        "In the following function definition `n_estimators` defines the number of trees we want, `max_samples` defines how many rows to sample for training each tree, and `max_features` defines how many columns to sample at each split point (where `0.5` means \"take half the total number of columns\"). We can also specify when to stop splitting the tree nodes, effectively limiting the depth of the tree, by including the same `min_samples_leaf` parameter we used in the last section. Finally, we pass `n_jobs=-1` to tell sklearn to use all our CPUs to build the trees in parallel. By creating a little function for this, we can more quickly try different variations in the rest of this chapter:"
      ]
    },
    {
      "cell_type": "code",
      "metadata": {
        "id": "UldlRyeXhoWj"
      },
      "source": [
        "def rf(xs, y, n_estimators=40, max_samples=200_000, max_features=0.5, min_samples_leaf=5, **kwargs):\n",
        "\n",
        "    m = RandomForestRegressor(\n",
        "        n_jobs=-1,\n",
        "        n_estimators=n_estimators,\n",
        "        max_samples=max_samples,\n",
        "        max_features=max_features,\n",
        "        min_samples_leaf=min_samples_leaf,\n",
        "        oob_score=True\n",
        "        )\n",
        "    m.fit(xs, y)\n",
        "    return m"
      ],
      "execution_count": null,
      "outputs": []
    },
    {
      "cell_type": "code",
      "metadata": {
        "id": "BwY0erPChoWj"
      },
      "source": [
        "m = rf(xs, y);"
      ],
      "execution_count": null,
      "outputs": []
    },
    {
      "cell_type": "markdown",
      "metadata": {
        "id": "OvSEcY7whoWj"
      },
      "source": [
        "Our validation RMSE is now much improved over our last result produced by the `DecisionTreeRegressor`, which made just one tree using all the available data:"
      ]
    },
    {
      "cell_type": "code",
      "metadata": {
        "id": "AOhyEUz3hoWk"
      },
      "source": [
        "m_rmse(m, xs, y), m_rmse(m, valid_xs, valid_y)"
      ],
      "execution_count": null,
      "outputs": []
    },
    {
      "cell_type": "markdown",
      "metadata": {
        "id": "0wut2xXHhoWk"
      },
      "source": [
        "One of the most important properties of random forests is that they aren't very sensitive to the hyperparameter choices, such as `max_features`.\n",
        "\n",
        "You can set `n_estimators` to as high a number as you have time to train—the more trees you have, the more accurate the model will be.\n",
        "\n",
        "`max_samples` can often be left at its default, unless you have over 200,000 data points, in which case setting it to 200,000 will make it train faster with little impact on accuracy.\n",
        "\n",
        "`max_features=0.5` and `min_samples_leaf=4` both tend to work well, although sklearn's defaults work well too."
      ]
    },
    {
      "cell_type": "markdown",
      "metadata": {
        "id": "xkwj2DRRhoWk"
      },
      "source": [
        "To see the impact of `n_estimators`, let's get the predictions from each individual tree in our forest (these are in the `estimators_` attribute):"
      ]
    },
    {
      "cell_type": "code",
      "metadata": {
        "id": "H5g_4FPFhoWk"
      },
      "source": [
        "preds = np.stack([t.predict(valid_xs) for t in m.estimators_])\n",
        "preds.shape"
      ],
      "execution_count": null,
      "outputs": []
    },
    {
      "cell_type": "markdown",
      "metadata": {
        "id": "-rqALgGohoWl"
      },
      "source": [
        "As you can see, `preds.mean(0)` gives the same results as our random forest:"
      ]
    },
    {
      "cell_type": "code",
      "metadata": {
        "id": "OSJRprnIhoWl"
      },
      "source": [
        "r_mse(preds.mean(0), valid_y)"
      ],
      "execution_count": null,
      "outputs": []
    },
    {
      "cell_type": "markdown",
      "metadata": {
        "id": "VS99byaehoWl"
      },
      "source": [
        "Let's see what happens to the RMSE as we add more and more trees. As you can see, the improvement levels off quite a bit after around 30 trees:"
      ]
    },
    {
      "cell_type": "code",
      "metadata": {
        "id": "KbtVPbpEhoWl"
      },
      "source": [
        "plt.plot([r_mse(preds[:i+1].mean(0), valid_y) for i in range(40)]);"
      ],
      "execution_count": null,
      "outputs": []
    },
    {
      "cell_type": "markdown",
      "metadata": {
        "id": "L7YkHPbohoWl"
      },
      "source": [
        "The performance on our validation set is worse than on our training set. But is that because we're overfitting, or because the validation set covers a different time period, or a bit of both? With the existing information we've seen, we can't tell. However, random forests have a very clever trick called *out-of-bag* (OOB) error that can help us with this (and more!)."
      ]
    },
    {
      "cell_type": "markdown",
      "metadata": {
        "id": "mZFpuIeLhoWl"
      },
      "source": [
        "### Out-of-Bag Error"
      ]
    },
    {
      "cell_type": "markdown",
      "metadata": {
        "id": "RtfXKovahoWm"
      },
      "source": [
        "Recall that in a random forest, each tree is trained on a different subset of the training data. The OOB error is a way of measuring prediction error on the training set by only including in the calculation of a row's error trees where that row was *not* included in training. This allows us to see whether the model is overfitting, without needing a separate validation set.\n",
        "\n",
        "> A: My intuition for this is that, since every tree was trained with a different randomly selected subset of rows, out-of-bag error is a little like imagining that every tree therefore also has its own validation set. That validation set is simply the rows that were not selected for that tree's training.\n",
        "\n",
        "This is particularly beneficial in cases where we have only a small amount of training data, as it allows us to see whether our model generalizes without removing items to create a validation set. The OOB predictions are available in the `oob_prediction_` attribute. Note that we compare them to the training labels, since this is being calculated on trees using the training set."
      ]
    },
    {
      "cell_type": "code",
      "metadata": {
        "id": "gbqubDzKhoWm"
      },
      "source": [
        "r_mse(m.oob_prediction_, y)"
      ],
      "execution_count": null,
      "outputs": []
    },
    {
      "cell_type": "markdown",
      "metadata": {
        "id": "SvMC5s1BhoWm"
      },
      "source": [
        "We can see that our OOB error is much lower than our validation set error. This means that something else is causing that error, in *addition* to normal generalization error. We'll discuss the reasons for this later in this chapter."
      ]
    },
    {
      "cell_type": "markdown",
      "metadata": {
        "id": "_MPvebiUhoWn"
      },
      "source": [
        "This is one way to interpret our model's predictions—let's focus on more of those now."
      ]
    },
    {
      "cell_type": "markdown",
      "metadata": {
        "id": "ePzkBpVphoWn"
      },
      "source": [
        "## Model Interpretation"
      ]
    },
    {
      "cell_type": "markdown",
      "metadata": {
        "id": "seLuQ_9choWn"
      },
      "source": [
        "For tabular data, model interpretation is particularly important. For a given model, the things we are most likely to be interested in are:\n",
        "\n",
        "- How confident are we in our predictions using a particular row of data?\n",
        "- For predicting with a particular row of data, what were the most important factors, and how did they influence that prediction?\n",
        "- Which columns are the strongest predictors, which can we ignore?\n",
        "- Which columns are effectively redundant with each other, for purposes of prediction?\n",
        "- How do predictions vary, as we vary these columns?\n",
        "\n",
        "As we will see, random forests are particularly well suited to answering these questions. Let's start with the first one!"
      ]
    },
    {
      "cell_type": "markdown",
      "metadata": {
        "id": "d6qQ8xVRhoWn"
      },
      "source": [
        "### Tree Variance for Prediction Confidence"
      ]
    },
    {
      "cell_type": "markdown",
      "metadata": {
        "id": "4mQAYH5choWn"
      },
      "source": [
        "We saw how the model averages the individual tree's predictions to get an overall prediction—that is, an estimate of the value. But how can we know the confidence of the estimate? One simple way is to use the standard deviation of predictions across the trees, instead of just the mean. This tells us the *relative* confidence of predictions. In general, we would want to be more cautious of using the results for rows where trees give very different results (higher standard deviations), compared to cases where they are more consistent (lower standard deviations).\n",
        "\n",
        "In the earlier section on creating a random forest, we saw how to get predictions over the validation set, using a Python list comprehension to do this for each tree in the forest:"
      ]
    },
    {
      "cell_type": "code",
      "metadata": {
        "id": "8ekZE_VyhoWo"
      },
      "source": [
        "preds = np.stack([t.predict(valid_xs) for t in m.estimators_])"
      ],
      "execution_count": null,
      "outputs": []
    },
    {
      "cell_type": "code",
      "metadata": {
        "id": "PZP0nQXAhoWo"
      },
      "source": [
        "preds.shape"
      ],
      "execution_count": null,
      "outputs": []
    },
    {
      "cell_type": "markdown",
      "metadata": {
        "id": "z5GMf-rrhoWo"
      },
      "source": [
        "Now we have a prediction for every tree and every auction (40 trees and 7,988 auctions) in the validation set.\n",
        "\n",
        "Using this we can get the standard deviation of the predictions over all the trees, for each auction:"
      ]
    },
    {
      "cell_type": "code",
      "metadata": {
        "id": "IEBEEH6HhoWo"
      },
      "source": [
        "preds_std = preds.std(0)"
      ],
      "execution_count": null,
      "outputs": []
    },
    {
      "cell_type": "markdown",
      "metadata": {
        "id": "w2AEgJrIhoWo"
      },
      "source": [
        "Here are the standard deviations for the predictions for the first five auctions—that is, the first five rows of the validation set:"
      ]
    },
    {
      "cell_type": "code",
      "metadata": {
        "id": "F9asRrnWhoWp"
      },
      "source": [
        "preds_std[:5]"
      ],
      "execution_count": null,
      "outputs": []
    },
    {
      "cell_type": "markdown",
      "metadata": {
        "id": "xKO9TxNUhoWp"
      },
      "source": [
        "As you can see, the confidence in the predictions varies widely. For some auctions, there is a low standard deviation because the trees agree. For others it's higher, as the trees don't agree. This is information that would be useful in a production setting; for instance, if you were using this model to decide what items to bid on at auction, a low-confidence prediction might cause you to look more carefully at an item before you made a bid."
      ]
    },
    {
      "cell_type": "markdown",
      "metadata": {
        "id": "tAJpAVmahoWp"
      },
      "source": [
        "### Feature Importance"
      ]
    },
    {
      "cell_type": "markdown",
      "metadata": {
        "id": "BdTDsBlShoWp"
      },
      "source": [
        "It's not normally enough just to know that a model can make accurate predictions—we also want to know *how* it's making predictions. *feature importance* gives us insight into this. We can get these directly from sklearn's random forest by looking in the `feature_importances_` attribute. Here's a simple function we can use to pop them into a DataFrame and sort them:"
      ]
    },
    {
      "cell_type": "code",
      "metadata": {
        "id": "1KhyCKX5hoWp"
      },
      "source": [
        "def rf_feat_importance(m, df):\n",
        "    imp  =  pd.DataFrame({'cols':df.columns, 'imp':m.feature_importances_})\n",
        "    return imp.sort_values('imp', ascending=False)"
      ],
      "execution_count": null,
      "outputs": []
    },
    {
      "cell_type": "markdown",
      "metadata": {
        "id": "6Daiig1dhoWq"
      },
      "source": [
        "The feature importances for our model show that the first few most important columns have much higher importance scores than the rest, with (not surprisingly) `YearMade` and `ProductSize` being at the top of the list:"
      ]
    },
    {
      "cell_type": "code",
      "metadata": {
        "id": "kcMONYHphoWq"
      },
      "source": [
        "fi = rf_feat_importance(m, xs)\n",
        "fi[:10]"
      ],
      "execution_count": null,
      "outputs": []
    },
    {
      "cell_type": "markdown",
      "metadata": {
        "id": "BaRPjUxFhoWq"
      },
      "source": [
        "A plot of the feature importances shows the relative importances more clearly:"
      ]
    },
    {
      "cell_type": "code",
      "metadata": {
        "id": "a2LpDljAhoWq"
      },
      "source": [
        "def plot_fi(fi):\n",
        "    return fi.plot('cols', 'imp', 'barh', figsize=(12,7), legend=False)\n",
        "\n",
        "plot_fi(fi[:30]);"
      ],
      "execution_count": null,
      "outputs": []
    },
    {
      "cell_type": "markdown",
      "metadata": {
        "id": "tox6n3H_hoWq"
      },
      "source": [
        "The way these importances are calculated is quite simple yet elegant. The feature importance algorithm loops through each tree, and then recursively explores each branch. At each branch, it looks to see what feature was used for that split, and how much the model improves as a result of that split. The improvement (weighted by the number of rows in that group) is added to the importance score for that feature. This is summed across all branches of all trees, and finally the scores are normalized such that they add to 1."
      ]
    },
    {
      "cell_type": "markdown",
      "metadata": {
        "id": "cxqyfHdxhoWr"
      },
      "source": [
        "### Removing Low-Importance Variables"
      ]
    },
    {
      "cell_type": "markdown",
      "metadata": {
        "id": "KYIlkh7ghoWr"
      },
      "source": [
        "It seems likely that we could use just a subset of the columns by removing the variables of low importance and still get good results. Let's try just keeping those with a feature importance greater than 0.005:"
      ]
    },
    {
      "cell_type": "code",
      "metadata": {
        "id": "UQj2UY5QhoWr"
      },
      "source": [
        "to_keep = fi[fi.imp>0.005].cols\n",
        "len(to_keep)"
      ],
      "execution_count": null,
      "outputs": []
    },
    {
      "cell_type": "markdown",
      "metadata": {
        "id": "u1iO9tFNhoWr"
      },
      "source": [
        "We can retrain our model using just this subset of the columns:"
      ]
    },
    {
      "cell_type": "code",
      "metadata": {
        "id": "_aRXnpsQhoWs"
      },
      "source": [
        "xs_imp = xs[to_keep]\n",
        "valid_xs_imp = valid_xs[to_keep]"
      ],
      "execution_count": null,
      "outputs": []
    },
    {
      "cell_type": "code",
      "metadata": {
        "id": "FeD49QiyhoWs"
      },
      "source": [
        "m = rf(xs_imp, y)"
      ],
      "execution_count": null,
      "outputs": []
    },
    {
      "cell_type": "markdown",
      "metadata": {
        "id": "U-eG87yBhoWs"
      },
      "source": [
        "And here's the result:"
      ]
    },
    {
      "cell_type": "code",
      "metadata": {
        "id": "1am6TL5NhoWs"
      },
      "source": [
        "m_rmse(m, xs_imp, y), m_rmse(m, valid_xs_imp, valid_y)"
      ],
      "execution_count": null,
      "outputs": []
    },
    {
      "cell_type": "markdown",
      "metadata": {
        "id": "bu3VlpWDhoWs"
      },
      "source": [
        "Our accuracy is about the same, but we have far fewer columns to study:"
      ]
    },
    {
      "cell_type": "code",
      "metadata": {
        "id": "MS8PQZfvhoWs"
      },
      "source": [
        "len(xs.columns), len(xs_imp.columns)"
      ],
      "execution_count": null,
      "outputs": []
    },
    {
      "cell_type": "markdown",
      "metadata": {
        "id": "vhhMN7YIhoWt"
      },
      "source": [
        "We've found that generally the first step to improving a model is simplifying it—78 columns was too many for us to study them all in depth! Furthermore, in practice often a simpler, more interpretable model is easier to roll out and maintain.\n",
        "\n",
        "This also makes our feature importance plot easier to interpret. Let's look at it again:"
      ]
    },
    {
      "cell_type": "code",
      "metadata": {
        "id": "E2mnV76whoWt"
      },
      "source": [
        "plot_fi(rf_feat_importance(m, xs_imp));"
      ],
      "execution_count": null,
      "outputs": []
    },
    {
      "cell_type": "markdown",
      "metadata": {
        "id": "U6gCwiqEhoWt"
      },
      "source": [
        "One thing that makes this harder to interpret is that there seem to be some variables with very similar meanings: for example, `ProductGroup` and `ProductGroupDesc`. Let's try to remove any redundent features."
      ]
    },
    {
      "cell_type": "markdown",
      "metadata": {
        "id": "7Bvd4hS6hoWt"
      },
      "source": [
        "### Removing Redundant Features"
      ]
    },
    {
      "cell_type": "markdown",
      "metadata": {
        "id": "JQ2XC97vhoWt"
      },
      "source": [
        "Let's start with:"
      ]
    },
    {
      "cell_type": "code",
      "source": [
        "import scipy\n",
        "from scipy.cluster import hierarchy as hc\n",
        "\n",
        "def cluster_columns(df, figsize=(10,6), font_size=12):\n",
        "    corr = np.round(scipy.stats.spearmanr(df).correlation, 4)\n",
        "    corr_condensed = hc.distance.squareform(1-corr)\n",
        "    z = hc.linkage(corr_condensed, method='average')\n",
        "    fig = plt.figure(figsize=figsize)\n",
        "    hc.dendrogram(z, labels=df.columns, orientation='left', leaf_font_size=font_size)\n",
        "    plt.show()"
      ],
      "metadata": {
        "id": "QNhtaOH3Q9Sp"
      },
      "execution_count": null,
      "outputs": []
    },
    {
      "cell_type": "code",
      "metadata": {
        "id": "2UJIZYY9hoWu"
      },
      "source": [
        "cluster_columns(xs_imp)"
      ],
      "execution_count": null,
      "outputs": []
    },
    {
      "cell_type": "markdown",
      "metadata": {
        "id": "Rr2TQ3e2hoWu"
      },
      "source": [
        "In this chart, the pairs of columns that are most similar are the ones that were merged together early, far from the \"root\" of the tree at the left. Unsurprisingly, the fields `ProductGroup` and `ProductGroupDesc` were merged quite early, as were `saleYear` and `saleElapsed` and `fiModelDesc` and `fiBaseModel`. These might be so closely correlated they are practically synonyms for each other.\n"
      ]
    },
    {
      "cell_type": "markdown",
      "source": [
        "<details>\n",
        "<summary>More on determining similarity</summary>\n",
        "<h4>Determining Similarity:</h4>\n",
        "<p>The most similar pairs are found by calculating the _rank correlation_, which means that all the values are replaced with their _rank_ (i.e., first, second, third, etc. within the column), and then the _correlation_ is calculated.</p>\n",
        "</details>\n"
      ],
      "metadata": {
        "id": "sRyfxLZ1daG4"
      }
    },
    {
      "cell_type": "markdown",
      "source": [
        "Let's try removing some of these closely related features to see if the model can be simplified without impacting the accuracy.\n",
        "\n",
        "First, we create a function that quickly trains a random forest and returns the OOB score, by using a lower `max_samples` and higher `min_samples_leaf`. The OOB score is a number returned by sklearn that ranges between 1.0 for a perfect model and 0.0 for a random model. We don't need it to be very accurate—we're just going to use it to compare different models, based on removing some of the possibly redundant columns:"
      ],
      "metadata": {
        "id": "fSMkBg9kdtLU"
      }
    },
    {
      "cell_type": "code",
      "metadata": {
        "id": "LlDXuHobhoWu"
      },
      "source": [
        "def get_oob(df):\n",
        "    m = RandomForestRegressor(\n",
        "        n_estimators=40,\n",
        "        min_samples_leaf=15,\n",
        "        max_samples=50000,\n",
        "        max_features=0.5,\n",
        "        n_jobs=-1,\n",
        "        oob_score=True\n",
        "    )\n",
        "    m.fit(df, y)\n",
        "    return m.oob_score_"
      ],
      "execution_count": null,
      "outputs": []
    },
    {
      "cell_type": "markdown",
      "metadata": {
        "id": "H9w2yGnchoWu"
      },
      "source": [
        "Here's our baseline:"
      ]
    },
    {
      "cell_type": "code",
      "metadata": {
        "id": "5x3iUHthhoWu"
      },
      "source": [
        "get_oob(xs_imp)"
      ],
      "execution_count": null,
      "outputs": []
    },
    {
      "cell_type": "markdown",
      "metadata": {
        "id": "FwW845YIhoWu"
      },
      "source": [
        "Now we try removing each of our potentially redundant variables, one at a time:"
      ]
    },
    {
      "cell_type": "code",
      "metadata": {
        "id": "e_6tbm9QhoWv"
      },
      "source": [
        "{c:get_oob(xs_imp.drop(c, axis=1)) for c in (\n",
        "    'saleYear', 'saleElapsed', 'ProductGroupDesc','ProductGroup',\n",
        "    'fiModelDesc', 'fiBaseModel',\n",
        "    'Hydraulics_Flow','Grouser_Tracks', 'Coupler_System')}"
      ],
      "execution_count": null,
      "outputs": []
    },
    {
      "cell_type": "markdown",
      "metadata": {
        "id": "_ngT9j0whoWv"
      },
      "source": [
        "Now let's try dropping multiple variables. We'll drop one from each of the tightly aligned pairs we noticed earlier. Let's see what that does:"
      ]
    },
    {
      "cell_type": "code",
      "metadata": {
        "id": "L2dtxtsXhoWv"
      },
      "source": [
        "to_drop = ['saleYear', 'ProductGroupDesc', 'fiBaseModel', 'Grouser_Tracks']\n",
        "get_oob(xs_imp.drop(to_drop, axis=1))"
      ],
      "execution_count": null,
      "outputs": []
    },
    {
      "cell_type": "markdown",
      "metadata": {
        "id": "IKhiuXDMhoWv"
      },
      "source": [
        "Looking good! This is really not much worse than the model with all the fields. Let's create DataFrames without these columns, and save them:"
      ]
    },
    {
      "cell_type": "code",
      "metadata": {
        "id": "erYZ5JpnhoWv"
      },
      "source": [
        "xs_final = xs_imp.drop(to_drop, axis=1)\n",
        "valid_xs_final = valid_xs_imp.drop(to_drop, axis=1)"
      ],
      "execution_count": null,
      "outputs": []
    },
    {
      "cell_type": "code",
      "metadata": {
        "id": "n-lejBKMhoWw"
      },
      "source": [
        "save_pickle(path/'xs_final.pkl', xs_final)\n",
        "save_pickle(path/'valid_xs_final.pkl', valid_xs_final)"
      ],
      "execution_count": null,
      "outputs": []
    },
    {
      "cell_type": "markdown",
      "metadata": {
        "id": "B5wE4qE9hoWw"
      },
      "source": [
        "We can load them back later with:"
      ]
    },
    {
      "cell_type": "code",
      "metadata": {
        "id": "1bZJZkblhoWw"
      },
      "source": [
        "xs_final = load_pickle(path/'xs_final.pkl')\n",
        "valid_xs_final = load_pickle(path/'valid_xs_final.pkl')"
      ],
      "execution_count": null,
      "outputs": []
    },
    {
      "cell_type": "markdown",
      "metadata": {
        "id": "JElFmVwKhoWw"
      },
      "source": [
        "Now we can check our RMSE again, to confirm that the accuracy hasn't substantially changed."
      ]
    },
    {
      "cell_type": "code",
      "metadata": {
        "id": "swXBD-2FhoWw"
      },
      "source": [
        "m = rf(xs_final, y)\n",
        "m_rmse(m, xs_final, y), m_rmse(m, valid_xs_final, valid_y)"
      ],
      "execution_count": null,
      "outputs": []
    },
    {
      "cell_type": "markdown",
      "metadata": {
        "id": "Gikvys5ghoWw"
      },
      "source": [
        "By focusing on the most important variables, and removing some redundant ones, we've greatly simplified our model. Now, let's see how those variables affect our predictions using partial dependence plots."
      ]
    },
    {
      "cell_type": "markdown",
      "metadata": {
        "id": "FKEby8_lhoW2"
      },
      "source": [
        "## Extrapolation and Neural Networks"
      ]
    },
    {
      "cell_type": "markdown",
      "metadata": {
        "id": "Hxx6j2VihoW2"
      },
      "source": [
        "A problem with random forests, like all machine learning or deep learning algorithms, is that they don't always generalize well to new data. We will see in which situations neural networks generalize better, but first, let's look at the extrapolation problem that random forests have."
      ]
    },
    {
      "cell_type": "markdown",
      "metadata": {
        "id": "i85fvqb2hoW2"
      },
      "source": [
        "### The Extrapolation Problem"
      ]
    },
    {
      "cell_type": "code",
      "metadata": {
        "id": "U1XMvRS_hoW2"
      },
      "source": [
        "np.random.seed(42)"
      ],
      "execution_count": null,
      "outputs": []
    },
    {
      "cell_type": "markdown",
      "metadata": {
        "id": "rfSWBhtdhoW2"
      },
      "source": [
        "Let's consider the simple task of making predictions from 40 data points showing a slightly noisy linear relationship:"
      ]
    },
    {
      "cell_type": "code",
      "metadata": {
        "id": "GO-23CHxhoW2"
      },
      "source": [
        "x_lin = torch.linspace(0,20, steps=40)\n",
        "y_lin = x_lin + torch.randn_like(x_lin)\n",
        "plt.scatter(x_lin, y_lin);"
      ],
      "execution_count": null,
      "outputs": []
    },
    {
      "cell_type": "markdown",
      "metadata": {
        "id": "dTldyRMyhoW3"
      },
      "source": [
        "Although we only have a single independent variable, sklearn expects a matrix of independent variables, not a single vector. So we have to turn our vector into a matrix with one column. In other words, we have to change the *shape* from `[40]` to `[40,1]`. One way to do that is with the `unsqueeze` method, which adds a new unit axis to a tensor at the requested dimension:"
      ]
    },
    {
      "cell_type": "code",
      "metadata": {
        "id": "jSfldwPLhoW3"
      },
      "source": [
        "xs_lin = x_lin.unsqueeze(1)\n",
        "x_lin.shape, xs_lin.shape"
      ],
      "execution_count": null,
      "outputs": []
    },
    {
      "cell_type": "markdown",
      "metadata": {
        "id": "wSr_u6ZJhoW4"
      },
      "source": [
        "A more flexible approach is to slice an array or tensor with the special value `None`, which introduces an additional unit axis at that location:"
      ]
    },
    {
      "cell_type": "code",
      "metadata": {
        "id": "rwT1bn_nhoW4"
      },
      "source": [
        "x_lin[:, None].shape"
      ],
      "execution_count": null,
      "outputs": []
    },
    {
      "cell_type": "markdown",
      "metadata": {
        "id": "ePgFomL4hoW4"
      },
      "source": [
        "We can now create a random forest for this data. We'll use only the first 30 rows to train the model:"
      ]
    },
    {
      "cell_type": "code",
      "metadata": {
        "id": "eT252j23hoW4"
      },
      "source": [
        "m_lin = RandomForestRegressor().fit(xs_lin[:30],y_lin[:30])"
      ],
      "execution_count": null,
      "outputs": []
    },
    {
      "cell_type": "markdown",
      "metadata": {
        "id": "GbDxWn-7hoW4"
      },
      "source": [
        "Then we'll test the model on the full dataset. The blue dots are the training data, and the red dots are the predictions:"
      ]
    },
    {
      "cell_type": "code",
      "metadata": {
        "id": "RZleH-20hoW5"
      },
      "source": [
        "plt.scatter(x_lin, y_lin, 20)\n",
        "plt.scatter(x_lin, m_lin.predict(xs_lin), color='red', alpha=0.5);"
      ],
      "execution_count": null,
      "outputs": []
    },
    {
      "cell_type": "markdown",
      "metadata": {
        "id": "bRhqXj2zhoW5"
      },
      "source": [
        "We have a big problem! Our predictions outside of the domain that our training data covered are all too low. Why do you suppose this is?\n",
        "\n",
        "Remember, a random forest just averages the predictions of a number of trees. And a tree simply predicts the average value of the rows in a leaf. Therefore, a tree and a random forest can never predict values outside of the range of the training data. This is particularly problematic for data where there is a trend over time, such as inflation, and you wish to make predictions for a future time. Your predictions will be systematically too low.\n",
        "\n",
        "But the problem extends beyond time variables. Random forests are not able to extrapolate outside of the types of data they have seen, in a more general sense. That's why we need to make sure our validation set does not contain out-of-domain data."
      ]
    },
    {
      "cell_type": "markdown",
      "metadata": {
        "id": "H6NzhXErhoW5"
      },
      "source": [
        "### Finding Out-of-Domain Data"
      ]
    },
    {
      "cell_type": "markdown",
      "metadata": {
        "id": "HbWJ5dCEhoW5"
      },
      "source": [
        "Sometimes it is hard to know whether your test set is distributed in the same way as your training data, or, if it is different, what columns reflect that difference. There's actually an easy way to figure this out, which is to use a random forest!\n",
        "\n",
        "But in this case we don't use the random forest to predict our actual dependent variable. Instead, we try to predict whether a row is in the validation set or the training set. To see this in action, let's combine our training and validation sets together, create a dependent variable that represents which dataset each row comes from, build a random forest using that data, and get its feature importance:"
      ]
    },
    {
      "cell_type": "code",
      "metadata": {
        "id": "24fN6JsWhoW5"
      },
      "source": [
        "df_dom = pd.concat([xs_final, valid_xs_final])\n",
        "is_valid = np.array([0]*len(xs_final) + [1]*len(valid_xs_final))\n",
        "\n",
        "m = rf(df_dom, is_valid)\n",
        "rf_feat_importance(m, df_dom)[:6]"
      ],
      "execution_count": null,
      "outputs": []
    },
    {
      "cell_type": "markdown",
      "metadata": {
        "id": "FHFZIJsKhoW6"
      },
      "source": [
        "This shows that there are three columns that differ significantly between the training and validation sets: `saleElapsed`, `SalesID`, and `MachineID`. It's fairly obvious why this is the case for `saleElapsed`: it's the number of days between the start of the dataset and each row, so it directly encodes the date. The difference in `SalesID` suggests that identifiers for auction sales might increment over time. `MachineID` suggests something similar might be happening for individual items sold in those auctions.\n",
        "\n",
        "Let's get a baseline of the original random forest model's RMSE, then see what the effect is of removing each of these columns in turn:"
      ]
    },
    {
      "cell_type": "code",
      "metadata": {
        "id": "k82mW0HBhoW6"
      },
      "source": [
        "m = rf(xs_final, y)\n",
        "print('orig', m_rmse(m, valid_xs_final, valid_y))\n",
        "\n",
        "for c in ('SalesID','saleElapsed','MachineID'):\n",
        "    m = rf(xs_final.drop(c,axis=1), y)\n",
        "    print(c, m_rmse(m, valid_xs_final.drop(c,axis=1), valid_y))"
      ],
      "execution_count": null,
      "outputs": []
    },
    {
      "cell_type": "markdown",
      "metadata": {
        "id": "OhU2d0QghoW7"
      },
      "source": [
        "It looks like we should be able to remove `SalesID` and `MachineID` without losing any accuracy. Let's check:"
      ]
    },
    {
      "cell_type": "code",
      "metadata": {
        "id": "pQrDLaSVhoW7"
      },
      "source": [
        "time_vars = ['SalesID','MachineID']\n",
        "xs_final_time = xs_final.drop(time_vars, axis=1)\n",
        "valid_xs_time = valid_xs_final.drop(time_vars, axis=1)\n",
        "\n",
        "m = rf(xs_final_time, y)\n",
        "m_rmse(m, valid_xs_time, valid_y)"
      ],
      "execution_count": null,
      "outputs": []
    },
    {
      "cell_type": "markdown",
      "metadata": {
        "id": "DjElI8SxhoW7"
      },
      "source": [
        "Removing these variables has slightly improved the model's accuracy; but more importantly, it should make it more resilient over time, and easier to maintain and understand. We recommend that for all datasets you try building a model where your dependent variable is `is_valid`, like we did here. It can often uncover subtle *domain shift* issues that you may otherwise miss.\n",
        "\n",
        "One thing that might help in our case is to simply avoid using old data. Often, old data shows relationships that just aren't valid any more. Let's try just using the most recent few years of the data:"
      ]
    },
    {
      "cell_type": "code",
      "metadata": {
        "id": "4BXv0ooihoW7"
      },
      "source": [
        "xs['saleYear'].hist();"
      ],
      "execution_count": null,
      "outputs": []
    },
    {
      "cell_type": "markdown",
      "metadata": {
        "id": "zn-A7VCRhoW7"
      },
      "source": [
        "Here's the result of training on this subset:"
      ]
    },
    {
      "cell_type": "code",
      "metadata": {
        "id": "8iQdF3vMhoW8"
      },
      "source": [
        "filt = xs['saleYear']>2004\n",
        "xs_filt = xs_final_time[filt]\n",
        "y_filt = y[filt]"
      ],
      "execution_count": null,
      "outputs": []
    },
    {
      "cell_type": "code",
      "metadata": {
        "id": "Jv_2lxeUhoW8"
      },
      "source": [
        "m = rf(xs_filt, y_filt)\n",
        "m_rmse(m, xs_filt, y_filt), m_rmse(m, valid_xs_time, valid_y)"
      ],
      "execution_count": null,
      "outputs": []
    },
    {
      "cell_type": "markdown",
      "metadata": {
        "id": "JFtvBfGshoW8"
      },
      "source": [
        "It's a tiny bit better, which shows that you shouldn't always just use your entire dataset; sometimes a subset can be better.\n",
        "\n",
        "Let's see if using a neural network helps."
      ]
    },
    {
      "cell_type": "markdown",
      "metadata": {
        "id": "TxTnaKjahoW8"
      },
      "source": [
        "### Using a Neural Network"
      ]
    },
    {
      "cell_type": "markdown",
      "metadata": {
        "id": "6tGl8up1hoW8"
      },
      "source": [
        "We can use the same approach to build a neural network model. Let's first replicate the steps we took to set up the `TabularPandas` object:"
      ]
    },
    {
      "cell_type": "code",
      "metadata": {
        "id": "kZIWQZYLhoW8"
      },
      "source": [
        "df_nn = pd.read_csv(path/'TrainAndValid.csv', low_memory=False)\n",
        "df_nn['ProductSize'] = df_nn['ProductSize'].astype('category')\n",
        "df_nn['ProductSize'] = df_nn['ProductSize'].cat.set_categories(sizes, ordered=True)\n",
        "df_nn[dep_var] = np.log(df_nn[dep_var])\n",
        "df_nn = add_datepart(df_nn, 'saledate')"
      ],
      "execution_count": null,
      "outputs": []
    },
    {
      "cell_type": "markdown",
      "metadata": {
        "id": "6pLex0rthoW9"
      },
      "source": [
        "We can leverage the work we did to trim unwanted columns in the random forest by using the same set of columns for our neural network:"
      ]
    },
    {
      "cell_type": "code",
      "metadata": {
        "id": "2wiugm0ShoW9"
      },
      "source": [
        "df_nn_final = df_nn[list(xs_final_time.columns) + [dep_var]]"
      ],
      "execution_count": null,
      "outputs": []
    },
    {
      "cell_type": "markdown",
      "metadata": {
        "id": "h1u9QIZ0hoW9"
      },
      "source": [
        "Categorical columns are handled very differently in neural networks, compared to decision tree approaches. As we saw in `Chapter 8 Collab`, in a neural net a great way to handle categorical variables is by using embeddings. To create embeddings, fastai needs to determine which columns should be treated as categorical variables. It does this by comparing the number of distinct levels in the variable to the value of the `max_card` parameter. If it's lower, fastai will treat the variable as categorical. Embedding sizes larger than 10,000 should generally only be used after you've tested whether there are better ways to group the variable, so we'll use 9,000 as our `max_card`:"
      ]
    },
    {
      "cell_type": "code",
      "metadata": {
        "id": "jEhm-v42hoW9"
      },
      "source": [
        "cont_nn, cat_nn = cont_cat_split(df_nn_final, max_card=9000, dep_var=dep_var)"
      ],
      "execution_count": null,
      "outputs": []
    },
    {
      "cell_type": "markdown",
      "metadata": {
        "id": "sxFPpnLmhoW9"
      },
      "source": [
        "In this case, there's one variable that we absolutely do not want to treat as categorical: the `saleElapsed` variable. A categorical variable cannot, by definition, extrapolate outside the range of values that it has seen, but we want to be able to predict auction sale prices in the future. Let's verify that `cont_cat_split` did the correct thing."
      ]
    },
    {
      "cell_type": "code",
      "metadata": {
        "id": "He26P40VhoW9"
      },
      "source": [
        "cont_nn"
      ],
      "execution_count": null,
      "outputs": []
    },
    {
      "cell_type": "markdown",
      "metadata": {
        "id": "Ce6UaIowhoW9"
      },
      "source": [
        "Let's take a look at the cardinality of each of the categorical variables that we have chosen so far:"
      ]
    },
    {
      "cell_type": "code",
      "metadata": {
        "id": "UGH4gsSkhoW-"
      },
      "source": [
        "df_nn_final[cat_nn].nunique()"
      ],
      "execution_count": null,
      "outputs": []
    },
    {
      "cell_type": "markdown",
      "metadata": {
        "id": "wgK_-TsChoW-"
      },
      "source": [
        "The fact that there are two variables pertaining to the \"model\" of the equipment, both with similar very high cardinalities, suggests that they may contain similar, redundant information. Note that we would not necessarily see this when analyzing redundant features, since that relies on similar variables being sorted in the same order (that is, they need to have similarly named levels). Having a column with 5,000 levels means needing 5,000 columns in our embedding matrix, which would be nice to avoid if possible. Let's see what the impact of removing one of these model columns has on the random forest:"
      ]
    },
    {
      "cell_type": "code",
      "metadata": {
        "id": "d9qaiCHHhoW-"
      },
      "source": [
        "xs_filt2 = xs_filt.drop('fiModelDescriptor', axis=1)\n",
        "valid_xs_time2 = valid_xs_time.drop('fiModelDescriptor', axis=1)\n",
        "m2 = rf(xs_filt2, y_filt)\n",
        "m_rmse(m2, xs_filt2, y_filt), m_rmse(m2, valid_xs_time2, valid_y)"
      ],
      "execution_count": null,
      "outputs": []
    },
    {
      "cell_type": "markdown",
      "metadata": {
        "id": "iDHVejPbhoW-"
      },
      "source": [
        "There's minimal impact, so we will remove it as a predictor for our neural network:"
      ]
    },
    {
      "cell_type": "code",
      "metadata": {
        "id": "SMz-Q5rNhoW-"
      },
      "source": [
        "cat_nn.remove('fiModelDescriptor')"
      ],
      "execution_count": null,
      "outputs": []
    },
    {
      "cell_type": "markdown",
      "metadata": {
        "id": "orrmkWBphoW-"
      },
      "source": [
        "We can create our `TabularPandas` object in the same way as when we created our random forest, with one very important addition: normalization. A random forest does not need any normalization—the tree building procedure cares only about the order of values in a variable, not at all about how they are scaled. But as we have seen, a neural network definitely does care about this. Therefore, we add the `Normalize` processor when we build our `TabularPandas` object:"
      ]
    },
    {
      "cell_type": "code",
      "metadata": {
        "scrolled": false,
        "id": "R-wc6A5vhoW_"
      },
      "source": [
        "procs_nn = [Categorify, FillMissing, Normalize]\n",
        "\n",
        "to_nn = TabularPandas(\n",
        "    df=df_nn_final,\n",
        "    procs=procs_nn,\n",
        "    cat_names=cat_nn,\n",
        "    cont_names=cont_nn,\n",
        "    splits=splits,\n",
        "    y_names=dep_var\n",
        ")"
      ],
      "execution_count": null,
      "outputs": []
    },
    {
      "cell_type": "markdown",
      "metadata": {
        "id": "seqMENDEhoW_"
      },
      "source": [
        "Now we need to provide the fastai package a recipe about how data needs to be presented to the model.\n",
        "\n",
        "In the case of tabular models and data don't generally require much GPU RAM, so we can use larger batch sizes:"
      ]
    },
    {
      "cell_type": "code",
      "metadata": {
        "id": "2gYJAwyGhoW_"
      },
      "source": [
        "dls = to_nn.dataloaders(1024)"
      ],
      "execution_count": null,
      "outputs": []
    },
    {
      "cell_type": "markdown",
      "metadata": {
        "id": "82uBcpZYhoW_"
      },
      "source": [
        "As we've discussed, it's a good idea to set `y_range` for regression models, so let's find the min and max of our dependent variable:"
      ]
    },
    {
      "cell_type": "code",
      "metadata": {
        "id": "8XkUMptWhoW_"
      },
      "source": [
        "y = to_nn.train.y\n",
        "y.min(), y.max()"
      ],
      "execution_count": null,
      "outputs": []
    },
    {
      "cell_type": "markdown",
      "metadata": {
        "id": "Xyl5XnGghoW_"
      },
      "source": [
        "We can now create the `Learner` to create this tabular model. As usual, we use the application-specific learner function, to take advantage of its application-customized defaults. We set the loss function to MSE, since that's what this competition uses.\n",
        "\n",
        "By default, for tabular data fastai creates a neural network with two hidden layers, with 200 and 100 activations, respectively. This works quite well for small datasets, but here we've got quite a large dataset, so we increase the layer sizes to 500 and 250:"
      ]
    },
    {
      "cell_type": "code",
      "metadata": {
        "id": "ND7pD9BPhoW_"
      },
      "source": [
        "learn = tabular_learner(\n",
        "    dls=dls,\n",
        "    y_range=(8,12),\n",
        "    layers=[500,250],\n",
        "    n_out=1,\n",
        "    loss_func=F.mse_loss\n",
        ")"
      ],
      "execution_count": null,
      "outputs": []
    },
    {
      "cell_type": "code",
      "metadata": {
        "id": "H76T6ID2hoXA"
      },
      "source": [
        "lr = learn.lr_find()\n",
        "lr"
      ],
      "execution_count": null,
      "outputs": []
    },
    {
      "cell_type": "markdown",
      "metadata": {
        "id": "3oyCnXvEhoXA"
      },
      "source": [
        "With tabulare data, we do not use pretrained models. All models are trained from stratch. Therefore, we do not use `fine_tune`, but `fit_one_cycle`. We will run for a few epochs and see how it looks:"
      ]
    },
    {
      "cell_type": "code",
      "metadata": {
        "id": "pTg30jWghoXA"
      },
      "source": [
        "learn.fit_one_cycle(n_epoch=10, lr_max=lr.valley)"
      ],
      "execution_count": null,
      "outputs": []
    },
    {
      "cell_type": "code",
      "source": [
        "learn.recorder.plot_loss()"
      ],
      "metadata": {
        "id": "IKLI-7bqhDI1"
      },
      "execution_count": null,
      "outputs": []
    },
    {
      "cell_type": "markdown",
      "metadata": {
        "id": "rItbhzMXhoXA"
      },
      "source": [
        "We can use our `r_mse` function to compare the result to the random forest result we got earlier:"
      ]
    },
    {
      "cell_type": "code",
      "metadata": {
        "id": "qmi-c4XshoXA"
      },
      "source": [
        "preds, targs = learn.get_preds()\n",
        "r_mse(preds,targs)"
      ],
      "execution_count": null,
      "outputs": []
    },
    {
      "cell_type": "markdown",
      "metadata": {
        "id": "mk50VIWJhoXA"
      },
      "source": [
        "It's quite a bit better than the random forest (although it took longer to train, and it's fussier about hyperparameter tuning).\n",
        "\n",
        "Before we move on, let's save our model in case we want to come back to it again later:"
      ]
    },
    {
      "cell_type": "code",
      "metadata": {
        "id": "rDYE5xR3hoXB"
      },
      "source": [
        "learn.save('nn')"
      ],
      "execution_count": null,
      "outputs": []
    },
    {
      "cell_type": "markdown",
      "metadata": {
        "id": "L5df8H1khoXC"
      },
      "source": [
        "Another thing that can help with generalization is to use several models and average their predictions—a technique, as mentioned earlier, known as *ensembling*."
      ]
    },
    {
      "cell_type": "markdown",
      "metadata": {
        "id": "bkiA_b72hoXE"
      },
      "source": [
        "## Conclusion: Our Advice for Tabular Modeling"
      ]
    },
    {
      "cell_type": "markdown",
      "metadata": {
        "id": "w2LjV2CthoXE"
      },
      "source": [
        "We have dicussed two approaches to tabular modeling: decision tree ensembles and neural networks. We've also mentioned two different decision tree ensembles: random forests, and gradient boosting machines. Each is very effective, but each also has compromises:\n",
        "\n",
        "- *Random forests* are the easiest to train, because they are extremely resilient to hyperparameter choices and require very little preprocessing. They are very fast to train, and should not overfit if you have enough trees. But they can be a little less accurate, especially if extrapolation is required, such as predicting future time periods.\n",
        "\n",
        "- *Gradient boosting machines* in theory are just as fast to train as random forests, but in practice you will have to try lots of different hyperparameters. They can overfit, but they are often a little more accurate than random forests.\n",
        "\n",
        "- *Neural networks* take the longest time to train, and require extra preprocessing, such as normalization; this normalization needs to be used at inference time as well. They can provide great results and extrapolate well, but only if you are careful with your hyperparameters and take care to avoid overfitting.\n",
        "\n",
        "We suggest starting your analysis with a random forest. This will give you a strong baseline, and you can be confident that it's a reasonable starting point. You can then use that model for feature selection and partial dependence analysis, to get a better understanding of your data.\n",
        "\n",
        "From that foundation, you can try neural nets and GBMs, and if they give you significantly better results on your validation set in a reasonable amount of time, you can use them. If decision tree ensembles are working well for you, try adding the embeddings for the categorical variables to the data, and see if that helps your decision trees learn better."
      ]
    }
  ]
}